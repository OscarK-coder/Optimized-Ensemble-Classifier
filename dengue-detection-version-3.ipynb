{
 "cells": [
  {
   "cell_type": "code",
   "execution_count": 43,
   "id": "b8aa0213-cfc6-412c-9ed0-e0954989abfb",
   "metadata": {},
   "outputs": [],
   "source": [
    "import pandas as pd\n",
    "import numpy as np\n",
    "import matplotlib.pyplot as plt\n",
    "import seaborn as sns"
   ]
  },
  {
   "cell_type": "code",
   "execution_count": 44,
   "id": "8628187b-11d8-4479-8a91-c0c2e5d7db75",
   "metadata": {},
   "outputs": [],
   "source": [
    "sns.set_style(\"whitegrid\")\n",
    "plt.style.use(\"fivethirtyeight\")"
   ]
  },
  {
   "cell_type": "code",
   "execution_count": 46,
   "id": "58c8b46c-9973-452f-9735-f0b73dfdd2cf",
   "metadata": {},
   "outputs": [
    {
     "data": {
      "text/html": [
       "<div>\n",
       "<style scoped>\n",
       "    .dataframe tbody tr th:only-of-type {\n",
       "        vertical-align: middle;\n",
       "    }\n",
       "\n",
       "    .dataframe tbody tr th {\n",
       "        vertical-align: top;\n",
       "    }\n",
       "\n",
       "    .dataframe thead th {\n",
       "        text-align: right;\n",
       "    }\n",
       "</style>\n",
       "<table border=\"1\" class=\"dataframe\">\n",
       "  <thead>\n",
       "    <tr style=\"text-align: right;\">\n",
       "      <th></th>\n",
       "      <th>Sex</th>\n",
       "      <th>Age</th>\n",
       "      <th>Hemoglobin(g/dl)</th>\n",
       "      <th>WBC(/L)</th>\n",
       "      <th>RBC(/L)</th>\n",
       "      <th>Platelets(/L)</th>\n",
       "      <th>Neutrophil(%)</th>\n",
       "      <th>Lymphocyte(%)</th>\n",
       "      <th>Monocyte(%)</th>\n",
       "      <th>Eosinophil(%)</th>\n",
       "      <th>Basophil(%)</th>\n",
       "      <th>HCT/PCV(%)</th>\n",
       "      <th>MCV(fL)</th>\n",
       "      <th>MCH(pg)</th>\n",
       "      <th>MCHC(g/dL)</th>\n",
       "      <th>RDW-CV(%)</th>\n",
       "      <th>MPV(fL)</th>\n",
       "      <th>Dengue_NS1</th>\n",
       "    </tr>\n",
       "  </thead>\n",
       "  <tbody>\n",
       "    <tr>\n",
       "      <th>0</th>\n",
       "      <td>M</td>\n",
       "      <td>18.0</td>\n",
       "      <td>13.6</td>\n",
       "      <td>6.5</td>\n",
       "      <td>5.15</td>\n",
       "      <td>25.0</td>\n",
       "      <td>33.0</td>\n",
       "      <td>57.0</td>\n",
       "      <td>7.0</td>\n",
       "      <td>3.0</td>\n",
       "      <td>0.0</td>\n",
       "      <td>43.4</td>\n",
       "      <td>84.4</td>\n",
       "      <td>26.5</td>\n",
       "      <td>31.3</td>\n",
       "      <td>14.5</td>\n",
       "      <td>10.1</td>\n",
       "      <td>1</td>\n",
       "    </tr>\n",
       "    <tr>\n",
       "      <th>1</th>\n",
       "      <td>F</td>\n",
       "      <td>68.0</td>\n",
       "      <td>11.9</td>\n",
       "      <td>7.8</td>\n",
       "      <td>3.95</td>\n",
       "      <td>213.0</td>\n",
       "      <td>84.0</td>\n",
       "      <td>10.0</td>\n",
       "      <td>6.0</td>\n",
       "      <td>0.0</td>\n",
       "      <td>NaN</td>\n",
       "      <td>35.0</td>\n",
       "      <td>89.0</td>\n",
       "      <td>30.0</td>\n",
       "      <td>33.0</td>\n",
       "      <td>NaN</td>\n",
       "      <td>NaN</td>\n",
       "      <td>1</td>\n",
       "    </tr>\n",
       "    <tr>\n",
       "      <th>2</th>\n",
       "      <td>M</td>\n",
       "      <td>60.0</td>\n",
       "      <td>10.4</td>\n",
       "      <td>1.0</td>\n",
       "      <td>3.92</td>\n",
       "      <td>20.0</td>\n",
       "      <td>20.0</td>\n",
       "      <td>10.0</td>\n",
       "      <td>0.0</td>\n",
       "      <td>0.0</td>\n",
       "      <td>0.0</td>\n",
       "      <td>32.1</td>\n",
       "      <td>81.9</td>\n",
       "      <td>26.3</td>\n",
       "      <td>32.1</td>\n",
       "      <td>16.2</td>\n",
       "      <td>NaN</td>\n",
       "      <td>1</td>\n",
       "    </tr>\n",
       "    <tr>\n",
       "      <th>3</th>\n",
       "      <td>M</td>\n",
       "      <td>25.0</td>\n",
       "      <td>14.7</td>\n",
       "      <td>9.0</td>\n",
       "      <td>5.32</td>\n",
       "      <td>40.0</td>\n",
       "      <td>47.0</td>\n",
       "      <td>45.0</td>\n",
       "      <td>7.0</td>\n",
       "      <td>1.0</td>\n",
       "      <td>0.0</td>\n",
       "      <td>44.6</td>\n",
       "      <td>83.8</td>\n",
       "      <td>27.6</td>\n",
       "      <td>33.0</td>\n",
       "      <td>13.6</td>\n",
       "      <td>12.4</td>\n",
       "      <td>1</td>\n",
       "    </tr>\n",
       "    <tr>\n",
       "      <th>4</th>\n",
       "      <td>F</td>\n",
       "      <td>60.0</td>\n",
       "      <td>14.6</td>\n",
       "      <td>3.5</td>\n",
       "      <td>5.90</td>\n",
       "      <td>60.0</td>\n",
       "      <td>70.0</td>\n",
       "      <td>25.0</td>\n",
       "      <td>4.0</td>\n",
       "      <td>1.0</td>\n",
       "      <td>NaN</td>\n",
       "      <td>44.1</td>\n",
       "      <td>73.9</td>\n",
       "      <td>24.5</td>\n",
       "      <td>33.1</td>\n",
       "      <td>14.7</td>\n",
       "      <td>10.7</td>\n",
       "      <td>1</td>\n",
       "    </tr>\n",
       "  </tbody>\n",
       "</table>\n",
       "</div>"
      ],
      "text/plain": [
       "  Sex   Age  Hemoglobin(g/dl)  WBC(/L)  RBC(/L)  Platelets(/L)  Neutrophil(%)  \\\n",
       "0   M  18.0              13.6      6.5     5.15           25.0           33.0   \n",
       "1   F  68.0              11.9      7.8     3.95          213.0           84.0   \n",
       "2   M  60.0              10.4      1.0     3.92           20.0           20.0   \n",
       "3   M  25.0              14.7      9.0     5.32           40.0           47.0   \n",
       "4   F  60.0              14.6      3.5     5.90           60.0           70.0   \n",
       "\n",
       "   Lymphocyte(%)  Monocyte(%)  Eosinophil(%)  Basophil(%)  HCT/PCV(%)  \\\n",
       "0           57.0          7.0            3.0          0.0        43.4   \n",
       "1           10.0          6.0            0.0          NaN        35.0   \n",
       "2           10.0          0.0            0.0          0.0        32.1   \n",
       "3           45.0          7.0            1.0          0.0        44.6   \n",
       "4           25.0          4.0            1.0          NaN        44.1   \n",
       "\n",
       "   MCV(fL)  MCH(pg)  MCHC(g/dL)  RDW-CV(%)  MPV(fL)  Dengue_NS1  \n",
       "0     84.4     26.5        31.3       14.5     10.1           1  \n",
       "1     89.0     30.0        33.0        NaN      NaN           1  \n",
       "2     81.9     26.3        32.1       16.2      NaN           1  \n",
       "3     83.8     27.6        33.0       13.6     12.4           1  \n",
       "4     73.9     24.5        33.1       14.7     10.7           1  "
      ]
     },
     "execution_count": 46,
     "metadata": {},
     "output_type": "execute_result"
    }
   ],
   "source": [
    "df = pd.read_csv('processed_data.csv')\n",
    "df.head()"
   ]
  },
  {
   "cell_type": "code",
   "execution_count": 47,
   "id": "27901417-5d05-4b18-b5e4-c3513f926a75",
   "metadata": {},
   "outputs": [
    {
     "data": {
      "text/plain": [
       "Sex                  20\n",
       "Age                  21\n",
       "Hemoglobin(g/dl)     45\n",
       "WBC(/L)              41\n",
       "RBC(/L)              51\n",
       "Platelets(/L)        29\n",
       "Neutrophil(%)        51\n",
       "Lymphocyte(%)        49\n",
       "Monocyte(%)          51\n",
       "Eosinophil(%)        51\n",
       "Basophil(%)          62\n",
       "HCT/PCV(%)           40\n",
       "MCV(fL)              54\n",
       "MCH(pg)              54\n",
       "MCHC(g/dL)           54\n",
       "RDW-CV(%)            72\n",
       "MPV(fL)             127\n",
       "Dengue_NS1            0\n",
       "dtype: int64"
      ]
     },
     "execution_count": 47,
     "metadata": {},
     "output_type": "execute_result"
    }
   ],
   "source": [
    "df.isnull().sum()"
   ]
  },
  {
   "cell_type": "code",
   "execution_count": 48,
   "id": "eec5ac21-0b5d-4b2d-88a5-2ee5955e494f",
   "metadata": {},
   "outputs": [
    {
     "data": {
      "text/plain": [
       "(500, 18)"
      ]
     },
     "execution_count": 48,
     "metadata": {},
     "output_type": "execute_result"
    }
   ],
   "source": [
    "df.shape"
   ]
  },
  {
   "cell_type": "code",
   "execution_count": 49,
   "id": "928182b5-ae4f-49eb-b7d8-e9f52ccb85a8",
   "metadata": {},
   "outputs": [
    {
     "data": {
      "text/html": [
       "<div>\n",
       "<style scoped>\n",
       "    .dataframe tbody tr th:only-of-type {\n",
       "        vertical-align: middle;\n",
       "    }\n",
       "\n",
       "    .dataframe tbody tr th {\n",
       "        vertical-align: top;\n",
       "    }\n",
       "\n",
       "    .dataframe thead th {\n",
       "        text-align: right;\n",
       "    }\n",
       "</style>\n",
       "<table border=\"1\" class=\"dataframe\">\n",
       "  <thead>\n",
       "    <tr style=\"text-align: right;\">\n",
       "      <th></th>\n",
       "      <th>Age</th>\n",
       "      <th>Hemoglobin(g/dl)</th>\n",
       "      <th>WBC(/L)</th>\n",
       "      <th>RBC(/L)</th>\n",
       "      <th>Platelets(/L)</th>\n",
       "      <th>Neutrophil(%)</th>\n",
       "      <th>Lymphocyte(%)</th>\n",
       "      <th>Monocyte(%)</th>\n",
       "      <th>Eosinophil(%)</th>\n",
       "      <th>Basophil(%)</th>\n",
       "      <th>HCT/PCV(%)</th>\n",
       "      <th>MCV(fL)</th>\n",
       "      <th>MCH(pg)</th>\n",
       "      <th>MCHC(g/dL)</th>\n",
       "      <th>RDW-CV(%)</th>\n",
       "      <th>MPV(fL)</th>\n",
       "      <th>Dengue_NS1</th>\n",
       "    </tr>\n",
       "  </thead>\n",
       "  <tbody>\n",
       "    <tr>\n",
       "      <th>count</th>\n",
       "      <td>479.000000</td>\n",
       "      <td>455.000000</td>\n",
       "      <td>459.000000</td>\n",
       "      <td>449.000000</td>\n",
       "      <td>471.000000</td>\n",
       "      <td>449.000000</td>\n",
       "      <td>451.000000</td>\n",
       "      <td>449.000000</td>\n",
       "      <td>449.000000</td>\n",
       "      <td>438.000000</td>\n",
       "      <td>460.000000</td>\n",
       "      <td>446.000000</td>\n",
       "      <td>446.000000</td>\n",
       "      <td>446.000000</td>\n",
       "      <td>428.000000</td>\n",
       "      <td>373.000000</td>\n",
       "      <td>500.000000</td>\n",
       "    </tr>\n",
       "    <tr>\n",
       "      <th>mean</th>\n",
       "      <td>33.844676</td>\n",
       "      <td>14.651868</td>\n",
       "      <td>6.124102</td>\n",
       "      <td>5.157483</td>\n",
       "      <td>205.121168</td>\n",
       "      <td>51.938753</td>\n",
       "      <td>38.665632</td>\n",
       "      <td>6.446548</td>\n",
       "      <td>2.248775</td>\n",
       "      <td>0.245434</td>\n",
       "      <td>44.414674</td>\n",
       "      <td>86.410448</td>\n",
       "      <td>28.413072</td>\n",
       "      <td>32.787108</td>\n",
       "      <td>13.142710</td>\n",
       "      <td>10.169330</td>\n",
       "      <td>0.496000</td>\n",
       "    </tr>\n",
       "    <tr>\n",
       "      <th>std</th>\n",
       "      <td>14.045981</td>\n",
       "      <td>2.245552</td>\n",
       "      <td>2.727862</td>\n",
       "      <td>0.684001</td>\n",
       "      <td>112.784508</td>\n",
       "      <td>15.927623</td>\n",
       "      <td>14.874425</td>\n",
       "      <td>3.060140</td>\n",
       "      <td>2.125421</td>\n",
       "      <td>0.291865</td>\n",
       "      <td>7.516827</td>\n",
       "      <td>9.022623</td>\n",
       "      <td>2.793738</td>\n",
       "      <td>2.479946</td>\n",
       "      <td>1.401175</td>\n",
       "      <td>4.517684</td>\n",
       "      <td>0.500485</td>\n",
       "    </tr>\n",
       "    <tr>\n",
       "      <th>min</th>\n",
       "      <td>1.000000</td>\n",
       "      <td>4.600000</td>\n",
       "      <td>1.000000</td>\n",
       "      <td>1.700000</td>\n",
       "      <td>1.800000</td>\n",
       "      <td>6.200000</td>\n",
       "      <td>7.000000</td>\n",
       "      <td>0.000000</td>\n",
       "      <td>0.000000</td>\n",
       "      <td>0.000000</td>\n",
       "      <td>4.850000</td>\n",
       "      <td>32.700000</td>\n",
       "      <td>15.600000</td>\n",
       "      <td>2.870000</td>\n",
       "      <td>5.600000</td>\n",
       "      <td>5.700000</td>\n",
       "      <td>0.000000</td>\n",
       "    </tr>\n",
       "    <tr>\n",
       "      <th>25%</th>\n",
       "      <td>24.500000</td>\n",
       "      <td>13.500000</td>\n",
       "      <td>4.135000</td>\n",
       "      <td>4.780000</td>\n",
       "      <td>111.000000</td>\n",
       "      <td>43.400000</td>\n",
       "      <td>29.950000</td>\n",
       "      <td>4.300000</td>\n",
       "      <td>1.000000</td>\n",
       "      <td>0.000000</td>\n",
       "      <td>40.575000</td>\n",
       "      <td>82.000000</td>\n",
       "      <td>27.200000</td>\n",
       "      <td>31.500000</td>\n",
       "      <td>12.300000</td>\n",
       "      <td>9.000000</td>\n",
       "      <td>0.000000</td>\n",
       "    </tr>\n",
       "    <tr>\n",
       "      <th>50%</th>\n",
       "      <td>31.000000</td>\n",
       "      <td>14.800000</td>\n",
       "      <td>5.940000</td>\n",
       "      <td>5.170000</td>\n",
       "      <td>221.000000</td>\n",
       "      <td>52.800000</td>\n",
       "      <td>37.800000</td>\n",
       "      <td>6.000000</td>\n",
       "      <td>1.700000</td>\n",
       "      <td>0.200000</td>\n",
       "      <td>45.100000</td>\n",
       "      <td>87.100000</td>\n",
       "      <td>28.985000</td>\n",
       "      <td>32.900000</td>\n",
       "      <td>13.000000</td>\n",
       "      <td>9.900000</td>\n",
       "      <td>0.000000</td>\n",
       "    </tr>\n",
       "    <tr>\n",
       "      <th>75%</th>\n",
       "      <td>43.000000</td>\n",
       "      <td>16.200000</td>\n",
       "      <td>7.610000</td>\n",
       "      <td>5.580000</td>\n",
       "      <td>285.500000</td>\n",
       "      <td>61.800000</td>\n",
       "      <td>46.100000</td>\n",
       "      <td>8.000000</td>\n",
       "      <td>3.000000</td>\n",
       "      <td>0.400000</td>\n",
       "      <td>49.025000</td>\n",
       "      <td>91.575000</td>\n",
       "      <td>30.100000</td>\n",
       "      <td>34.200000</td>\n",
       "      <td>13.700000</td>\n",
       "      <td>10.700000</td>\n",
       "      <td>1.000000</td>\n",
       "    </tr>\n",
       "    <tr>\n",
       "      <th>max</th>\n",
       "      <td>82.000000</td>\n",
       "      <td>21.400000</td>\n",
       "      <td>25.600000</td>\n",
       "      <td>7.630000</td>\n",
       "      <td>650.000000</td>\n",
       "      <td>89.000000</td>\n",
       "      <td>84.500000</td>\n",
       "      <td>22.300000</td>\n",
       "      <td>19.000000</td>\n",
       "      <td>1.500000</td>\n",
       "      <td>65.300000</td>\n",
       "      <td>118.200000</td>\n",
       "      <td>34.600000</td>\n",
       "      <td>43.000000</td>\n",
       "      <td>23.200000</td>\n",
       "      <td>93.000000</td>\n",
       "      <td>1.000000</td>\n",
       "    </tr>\n",
       "  </tbody>\n",
       "</table>\n",
       "</div>"
      ],
      "text/plain": [
       "              Age  Hemoglobin(g/dl)     WBC(/L)     RBC(/L)  Platelets(/L)  \\\n",
       "count  479.000000        455.000000  459.000000  449.000000     471.000000   \n",
       "mean    33.844676         14.651868    6.124102    5.157483     205.121168   \n",
       "std     14.045981          2.245552    2.727862    0.684001     112.784508   \n",
       "min      1.000000          4.600000    1.000000    1.700000       1.800000   \n",
       "25%     24.500000         13.500000    4.135000    4.780000     111.000000   \n",
       "50%     31.000000         14.800000    5.940000    5.170000     221.000000   \n",
       "75%     43.000000         16.200000    7.610000    5.580000     285.500000   \n",
       "max     82.000000         21.400000   25.600000    7.630000     650.000000   \n",
       "\n",
       "       Neutrophil(%)  Lymphocyte(%)  Monocyte(%)  Eosinophil(%)  Basophil(%)  \\\n",
       "count     449.000000     451.000000   449.000000     449.000000   438.000000   \n",
       "mean       51.938753      38.665632     6.446548       2.248775     0.245434   \n",
       "std        15.927623      14.874425     3.060140       2.125421     0.291865   \n",
       "min         6.200000       7.000000     0.000000       0.000000     0.000000   \n",
       "25%        43.400000      29.950000     4.300000       1.000000     0.000000   \n",
       "50%        52.800000      37.800000     6.000000       1.700000     0.200000   \n",
       "75%        61.800000      46.100000     8.000000       3.000000     0.400000   \n",
       "max        89.000000      84.500000    22.300000      19.000000     1.500000   \n",
       "\n",
       "       HCT/PCV(%)     MCV(fL)     MCH(pg)  MCHC(g/dL)   RDW-CV(%)     MPV(fL)  \\\n",
       "count  460.000000  446.000000  446.000000  446.000000  428.000000  373.000000   \n",
       "mean    44.414674   86.410448   28.413072   32.787108   13.142710   10.169330   \n",
       "std      7.516827    9.022623    2.793738    2.479946    1.401175    4.517684   \n",
       "min      4.850000   32.700000   15.600000    2.870000    5.600000    5.700000   \n",
       "25%     40.575000   82.000000   27.200000   31.500000   12.300000    9.000000   \n",
       "50%     45.100000   87.100000   28.985000   32.900000   13.000000    9.900000   \n",
       "75%     49.025000   91.575000   30.100000   34.200000   13.700000   10.700000   \n",
       "max     65.300000  118.200000   34.600000   43.000000   23.200000   93.000000   \n",
       "\n",
       "       Dengue_NS1  \n",
       "count  500.000000  \n",
       "mean     0.496000  \n",
       "std      0.500485  \n",
       "min      0.000000  \n",
       "25%      0.000000  \n",
       "50%      0.000000  \n",
       "75%      1.000000  \n",
       "max      1.000000  "
      ]
     },
     "execution_count": 49,
     "metadata": {},
     "output_type": "execute_result"
    }
   ],
   "source": [
    "df.describe()"
   ]
  },
  {
   "cell_type": "code",
   "execution_count": 54,
   "id": "a826d8cc-9134-4f7a-a765-48837f486e54",
   "metadata": {},
   "outputs": [
    {
     "name": "stdout",
     "output_type": "stream",
     "text": [
      "Sex\n",
      "1.0    332\n",
      "0.0    147\n",
      "Name: count, dtype: int64\n"
     ]
    }
   ],
   "source": [
    "print(raw_data_frame['Sex'].value_counts())\n",
    "raw_data_frame['Sex'].replace(' ', np.NaN, inplace = True)\n",
    "raw_data_frame['Sex'].value_counts()\n",
    "raw_data_frame['Sex'] = raw_data_frame['Sex'].replace({'M': 1, 'F':0})"
   ]
  },
  {
   "cell_type": "code",
   "execution_count": 55,
   "id": "c9a8fa13-a743-4e44-81ee-decb0924d9d9",
   "metadata": {},
   "outputs": [],
   "source": [
    "def missing_imputaion(x,imputer='none'):\n",
    "    xt=x\n",
    "    if imputer=='knn':\n",
    "\n",
    "        X = xt\n",
    "        imputer = KNNImputer(n_neighbors=2, weights=\"uniform\")\n",
    "        Knn_data=imputer.fit_transform(X)\n",
    "        X1=pd.DataFrame(Knn_data)\n",
    "        y1=list(xt.columns.values)\n",
    "        X1.columns=y1\n",
    "        return X1\n",
    "    elif imputer=='mice':\n",
    "        Mice_data=MICE().fit_transform(xt)\n",
    "        X1=pd.DataFrame(Mice_data)\n",
    "        y1=list(xt.columns.values)\n",
    "        X1.columns=y1\n",
    "        return X1\n",
    "    elif imputer=='randomforest':\n",
    "        imputer = MissForest()\n",
    "        Rf = imputer.fit_transform(xt)\n",
    "        X1=pd.DataFrame(Rf)\n",
    "        y1=list(xt.columns.values)\n",
    "        X1.columns=y1\n",
    "        return X1\n",
    "    else:\n",
    "        X1=xt.dropna(axis=0)\n",
    "        return(X1)"
   ]
  },
  {
   "cell_type": "code",
   "execution_count": 58,
   "id": "0c673753-cb8f-4a88-847f-b21748ed8fb7",
   "metadata": {},
   "outputs": [
    {
     "data": {
      "text/plain": [
       "Sex                  20\n",
       "Age                  21\n",
       "Hemoglobin(g/dl)     45\n",
       "WBC(/L)              41\n",
       "RBC(/L)              51\n",
       "Platelets(/L)        29\n",
       "Neutrophil(%)        51\n",
       "Lymphocyte(%)        49\n",
       "Monocyte(%)          51\n",
       "Eosinophil(%)        51\n",
       "Basophil(%)          62\n",
       "HCT/PCV(%)           40\n",
       "MCV(fL)              54\n",
       "MCH(pg)              54\n",
       "MCHC(g/dL)           54\n",
       "RDW-CV(%)            72\n",
       "MPV(fL)             127\n",
       "Dengue_NS1            0\n",
       "dtype: int64"
      ]
     },
     "execution_count": 58,
     "metadata": {},
     "output_type": "execute_result"
    }
   ],
   "source": [
    "df.isnull().sum()"
   ]
  },
  {
   "cell_type": "code",
   "execution_count": 56,
   "id": "7f9c58a2-e150-41cd-bf00-43695ecfc1d4",
   "metadata": {},
   "outputs": [
    {
     "name": "stderr",
     "output_type": "stream",
     "text": [
      "C:\\Users\\Oscar\\AppData\\Local\\Programs\\Python\\Python312\\Lib\\site-packages\\sklearn\\impute\\_iterative.py:800: ConvergenceWarning: [IterativeImputer] Early stopping criterion not reached.\n",
      "  warnings.warn(\n"
     ]
    }
   ],
   "source": [
    "labels = raw_data_frame['Dengue_NS1']\n",
    "data_raw = raw_data_frame.drop(['Dengue_NS1'], axis=1)\n",
    "\n",
    "data_raw = missing_imputaion(x=data_raw, imputer='mice')\n",
    "\n",
    "import re\n",
    "regex = re.compile(r\"\\[|\\]|<\", re.IGNORECASE)\n",
    "data_raw.columns = [regex.sub(\"_\", col) if any(x in str(col) for x in set(('[', ']', '<'))) else col for col in data_raw.columns.values]"
   ]
  },
  {
   "cell_type": "code",
   "execution_count": 57,
   "id": "bebfef94-bf55-4639-b7ee-92ea50ec918d",
   "metadata": {},
   "outputs": [
    {
     "data": {
      "text/plain": [
       "Sex                  20\n",
       "Age                  21\n",
       "Hemoglobin(g/dl)     45\n",
       "WBC(/L)              41\n",
       "RBC(/L)              51\n",
       "Platelets(/L)        29\n",
       "Neutrophil(%)        51\n",
       "Lymphocyte(%)        49\n",
       "Monocyte(%)          51\n",
       "Eosinophil(%)        51\n",
       "Basophil(%)          62\n",
       "HCT/PCV(%)           40\n",
       "MCV(fL)              54\n",
       "MCH(pg)              54\n",
       "MCHC(g/dL)           54\n",
       "RDW-CV(%)            72\n",
       "MPV(fL)             127\n",
       "Dengue_NS1            0\n",
       "dtype: int64"
      ]
     },
     "execution_count": 57,
     "metadata": {},
     "output_type": "execute_result"
    }
   ],
   "source": []
  },
  {
   "cell_type": "code",
   "execution_count": 59,
   "id": "4ea37ec0-b32b-40f8-b7f3-5399a8378034",
   "metadata": {},
   "outputs": [],
   "source": [
    "categorical_val = []\n",
    "continous_val = []\n",
    "for column in df.columns:\n",
    "    # print('==============================')\n",
    "    # print(f\"{column} : {df[column].unique()}\")\n",
    "    if len(df[column].unique()) <= 10:\n",
    "        categorical_val.append(column)\n",
    "    else:\n",
    "        continous_val.append(column)"
   ]
  },
  {
   "cell_type": "code",
   "execution_count": 61,
   "id": "add7c5ae-c2d6-4bc5-85b8-66f1208c26cd",
   "metadata": {},
   "outputs": [
    {
     "name": "stdout",
     "output_type": "stream",
     "text": [
      "Categorical features:\n",
      "['Sex', 'Dengue_NS1']\n",
      "Continuous features:\n",
      "['Age', 'Hemoglobin(g/dl)', 'WBC(/L)', 'RBC(/L)', 'Platelets(/L)', 'Neutrophil(%)', 'Lymphocyte(%)', 'Monocyte(%)', 'Eosinophil(%)', 'Basophil(%)', 'HCT/PCV(%)', 'MCV(fL)', 'MCH(pg)', 'MCHC(g/dL)', 'RDW-CV(%)', 'MPV(fL)']\n"
     ]
    }
   ],
   "source": [
    "print(\"Categorical features:\")\n",
    "print(categorical_val)\n",
    "print('Continuous features:')\n",
    "print(continous_val)"
   ]
  },
  {
   "cell_type": "code",
   "execution_count": 63,
   "id": "af67936d-0db2-42d7-9111-6d92aabafd40",
   "metadata": {},
   "outputs": [],
   "source": [
    "feature_columns = df.columns.to_list()"
   ]
  },
  {
   "cell_type": "code",
   "execution_count": 64,
   "id": "6453a664-fa89-4ac7-a09e-16b509215865",
   "metadata": {},
   "outputs": [
    {
     "name": "stdout",
     "output_type": "stream",
     "text": [
      "Number of qualitative features: 2 (5.0%)\n",
      "Number of quantative features: 16 (40.0%)\n"
     ]
    }
   ],
   "source": [
    "print(\"Number of qualitative features: \" +str(len(categorical_val) ) + \" (\" + str(len(categorical_val)/40 *100) + \"%)\" )\n",
    "print(\"Number of quantative features: \" +str(len(continous_val) ) + \" (\" + str(len(continous_val)/40 *100) + \"%)\") "
   ]
  },
  {
   "cell_type": "markdown",
   "id": "3c23c877-d0e1-4331-99cb-5ea2096bbba8",
   "metadata": {},
   "source": [
    "for feature in categorical_val:\n",
    "    vals = sorted(df[feature].unique())\n",
    "    print(feature, \":\", vals)"
   ]
  },
  {
   "cell_type": "code",
   "execution_count": 68,
   "id": "a69aadc5-9c22-4a93-89fa-eccac5bd5a64",
   "metadata": {},
   "outputs": [
    {
     "name": "stdout",
     "output_type": "stream",
     "text": [
      "Sex : [' ', 'F', 'M', 'nan']\n",
      "Dengue_NS1 : ['0', '1']\n"
     ]
    }
   ],
   "source": [
    "for feature in categorical_val:\n",
    "    # Convert numerical values to strings before sorting\n",
    "    vals = sorted([str(val) for val in df[feature].unique()])\n",
    "    print(feature, \":\", vals)\n"
   ]
  },
  {
   "cell_type": "code",
   "execution_count": 69,
   "id": "a062e61c-e0de-4f1b-b3e5-07cf88e66bb3",
   "metadata": {},
   "outputs": [],
   "source": [
    "df1 = df.dropna()"
   ]
  },
  {
   "cell_type": "code",
   "execution_count": 70,
   "id": "0f3e9c8a-49f4-4494-979d-4258d1202c2b",
   "metadata": {},
   "outputs": [
    {
     "name": "stdout",
     "output_type": "stream",
     "text": [
      "Sex                 0\n",
      "Age                 0\n",
      "Hemoglobin(g/dl)    0\n",
      "WBC(/L)             0\n",
      "RBC(/L)             0\n",
      "Platelets(/L)       0\n",
      "Neutrophil(%)       0\n",
      "Lymphocyte(%)       0\n",
      "Monocyte(%)         0\n",
      "Eosinophil(%)       0\n",
      "Basophil(%)         0\n",
      "HCT/PCV(%)          0\n",
      "MCV(fL)             0\n",
      "MCH(pg)             0\n",
      "MCHC(g/dL)          0\n",
      "RDW-CV(%)           0\n",
      "MPV(fL)             0\n",
      "Dengue_NS1          0\n",
      "dtype: int64\n"
     ]
    }
   ],
   "source": [
    "print(df1.isnull().sum())"
   ]
  },
  {
   "cell_type": "code",
   "execution_count": 71,
   "id": "be0ef7df-9cfb-4db3-9445-2d0689a50b34",
   "metadata": {},
   "outputs": [
    {
     "data": {
      "text/plain": [
       "(355, 18)"
      ]
     },
     "execution_count": 71,
     "metadata": {},
     "output_type": "execute_result"
    }
   ],
   "source": [
    "df1.shape"
   ]
  },
  {
   "cell_type": "code",
   "execution_count": 73,
   "id": "e9e59ee6-8c77-459b-add8-90cef83a6544",
   "metadata": {},
   "outputs": [],
   "source": [
    "idx = df1['Dengue_NS1'].notnull() "
   ]
  },
  {
   "cell_type": "code",
   "execution_count": 74,
   "id": "7ec52661-7c42-4f4a-9ad4-92cd6dca4484",
   "metadata": {},
   "outputs": [
    {
     "name": "stdout",
     "output_type": "stream",
     "text": [
      "Dataset size: (355, 18)\n",
      "Non-null rows: 355\n"
     ]
    }
   ],
   "source": [
    "print(f'Dataset size: {df1.shape}')\n",
    "print(f'Non-null rows: {idx.notnull().sum()}')"
   ]
  },
  {
   "cell_type": "code",
   "execution_count": 75,
   "id": "3337d187-f78c-452d-9fef-4d13265d9628",
   "metadata": {},
   "outputs": [
    {
     "name": "stdout",
     "output_type": "stream",
     "text": [
      "============================================\n",
      "Sex ==> Missing zeros : 0\n",
      "============================================\n",
      "Age ==> Missing zeros : 0\n",
      "============================================\n",
      "Hemoglobin(g/dl) ==> Missing zeros : 0\n",
      "============================================\n",
      "WBC(/L) ==> Missing zeros : 0\n",
      "============================================\n",
      "RBC(/L) ==> Missing zeros : 0\n",
      "============================================\n",
      "Platelets(/L) ==> Missing zeros : 0\n",
      "============================================\n",
      "Neutrophil(%) ==> Missing zeros : 0\n",
      "============================================\n",
      "Lymphocyte(%) ==> Missing zeros : 0\n",
      "============================================\n",
      "Monocyte(%) ==> Missing zeros : 0\n",
      "============================================\n",
      "Eosinophil(%) ==> Missing zeros : 14\n",
      "============================================\n",
      "Basophil(%) ==> Missing zeros : 100\n",
      "============================================\n",
      "HCT/PCV(%) ==> Missing zeros : 0\n",
      "============================================\n",
      "MCV(fL) ==> Missing zeros : 0\n",
      "============================================\n",
      "MCH(pg) ==> Missing zeros : 0\n",
      "============================================\n",
      "MCHC(g/dL) ==> Missing zeros : 0\n",
      "============================================\n",
      "RDW-CV(%) ==> Missing zeros : 0\n",
      "============================================\n",
      "MPV(fL) ==> Missing zeros : 0\n",
      "============================================\n",
      "Dengue_NS1 ==> Missing zeros : 251\n"
     ]
    }
   ],
   "source": [
    "for column in feature_columns:\n",
    "    print(\"============================================\")\n",
    "    print(f\"{column} ==> Missing zeros : {len(df1.loc[df1[column] == 0])}\")"
   ]
  },
  {
   "cell_type": "code",
   "execution_count": 76,
   "id": "7b0a9036-0fee-4953-83a6-7073b4c98444",
   "metadata": {},
   "outputs": [
    {
     "data": {
      "text/plain": [
       "0      1\n",
       "3      1\n",
       "6      1\n",
       "9      1\n",
       "10     1\n",
       "      ..\n",
       "495    0\n",
       "496    0\n",
       "497    0\n",
       "498    0\n",
       "499    0\n",
       "Name: Dengue_NS1, Length: 355, dtype: int64"
      ]
     },
     "execution_count": 76,
     "metadata": {},
     "output_type": "execute_result"
    }
   ],
   "source": [
    "df1['Dengue_NS1']"
   ]
  },
  {
   "cell_type": "code",
   "execution_count": 77,
   "id": "b41c06f0-66eb-46fe-bf45-321ee9b5c5ac",
   "metadata": {},
   "outputs": [],
   "source": [
    "def remove_outliers(dataset, numeric_columns, num_std=3):\n",
    "   for column in numeric_columns: \n",
    "      mean = dataset[column].mean()\n",
    "      sd = dataset[column].std() \n",
    "      dataset = dataset[(dataset[column] <= mean + (num_std * sd))]\n",
    "      dataset = dataset[(dataset[column] >= mean - (num_std * sd))]\n",
    "   return dataset"
   ]
  },
  {
   "cell_type": "code",
   "execution_count": 79,
   "id": "7f7d138a-a7bf-4143-a457-4b9be8bfdd7f",
   "metadata": {},
   "outputs": [
    {
     "data": {
      "text/plain": [
       "Index(['Sex', 'Age', 'Hemoglobin(g/dl)', 'WBC(/L)', 'RBC(/L)', 'Platelets(/L)',\n",
       "       'Neutrophil(%)', 'Lymphocyte(%)', 'Monocyte(%)', 'Eosinophil(%)',\n",
       "       'Basophil(%)', 'HCT/PCV(%)', 'MCV(fL)', 'MCH(pg)', 'MCHC(g/dL)',\n",
       "       'RDW-CV(%)', 'MPV(fL)', 'Dengue_NS1'],\n",
       "      dtype='object')"
      ]
     },
     "execution_count": 79,
     "metadata": {},
     "output_type": "execute_result"
    }
   ],
   "source": [
    "df1.columns"
   ]
  },
  {
   "cell_type": "code",
   "execution_count": 78,
   "id": "b6924a54-750a-4a80-b3ca-67f8c3286b6c",
   "metadata": {},
   "outputs": [
    {
     "data": {
      "text/html": [
       "<div>\n",
       "<style scoped>\n",
       "    .dataframe tbody tr th:only-of-type {\n",
       "        vertical-align: middle;\n",
       "    }\n",
       "\n",
       "    .dataframe tbody tr th {\n",
       "        vertical-align: top;\n",
       "    }\n",
       "\n",
       "    .dataframe thead th {\n",
       "        text-align: right;\n",
       "    }\n",
       "</style>\n",
       "<table border=\"1\" class=\"dataframe\">\n",
       "  <thead>\n",
       "    <tr style=\"text-align: right;\">\n",
       "      <th></th>\n",
       "      <th>Sex</th>\n",
       "      <th>Age</th>\n",
       "      <th>Hemoglobin(g/dl)</th>\n",
       "      <th>WBC(/L)</th>\n",
       "      <th>RBC(/L)</th>\n",
       "      <th>Platelets(/L)</th>\n",
       "      <th>Neutrophil(%)</th>\n",
       "      <th>Lymphocyte(%)</th>\n",
       "      <th>Monocyte(%)</th>\n",
       "      <th>Eosinophil(%)</th>\n",
       "      <th>Basophil(%)</th>\n",
       "      <th>HCT/PCV(%)</th>\n",
       "      <th>MCV(fL)</th>\n",
       "      <th>MCH(pg)</th>\n",
       "      <th>MCHC(g/dL)</th>\n",
       "      <th>RDW-CV(%)</th>\n",
       "      <th>MPV(fL)</th>\n",
       "      <th>Dengue_NS1</th>\n",
       "    </tr>\n",
       "  </thead>\n",
       "  <tbody>\n",
       "    <tr>\n",
       "      <th>0</th>\n",
       "      <td>M</td>\n",
       "      <td>18.0</td>\n",
       "      <td>13.6</td>\n",
       "      <td>6.5</td>\n",
       "      <td>5.15</td>\n",
       "      <td>25.0</td>\n",
       "      <td>33.0</td>\n",
       "      <td>57.0</td>\n",
       "      <td>7.0</td>\n",
       "      <td>3.0</td>\n",
       "      <td>0.0</td>\n",
       "      <td>43.4</td>\n",
       "      <td>84.4</td>\n",
       "      <td>26.5</td>\n",
       "      <td>31.3</td>\n",
       "      <td>14.5</td>\n",
       "      <td>10.1</td>\n",
       "      <td>1</td>\n",
       "    </tr>\n",
       "    <tr>\n",
       "      <th>3</th>\n",
       "      <td>M</td>\n",
       "      <td>25.0</td>\n",
       "      <td>14.7</td>\n",
       "      <td>9.0</td>\n",
       "      <td>5.32</td>\n",
       "      <td>40.0</td>\n",
       "      <td>47.0</td>\n",
       "      <td>45.0</td>\n",
       "      <td>7.0</td>\n",
       "      <td>1.0</td>\n",
       "      <td>0.0</td>\n",
       "      <td>44.6</td>\n",
       "      <td>83.8</td>\n",
       "      <td>27.6</td>\n",
       "      <td>33.0</td>\n",
       "      <td>13.6</td>\n",
       "      <td>12.4</td>\n",
       "      <td>1</td>\n",
       "    </tr>\n",
       "    <tr>\n",
       "      <th>6</th>\n",
       "      <td>F</td>\n",
       "      <td>32.0</td>\n",
       "      <td>13.0</td>\n",
       "      <td>4.5</td>\n",
       "      <td>4.62</td>\n",
       "      <td>221.0</td>\n",
       "      <td>53.0</td>\n",
       "      <td>37.0</td>\n",
       "      <td>3.0</td>\n",
       "      <td>7.0</td>\n",
       "      <td>0.0</td>\n",
       "      <td>39.9</td>\n",
       "      <td>86.4</td>\n",
       "      <td>28.1</td>\n",
       "      <td>32.6</td>\n",
       "      <td>12.0</td>\n",
       "      <td>10.9</td>\n",
       "      <td>1</td>\n",
       "    </tr>\n",
       "    <tr>\n",
       "      <th>9</th>\n",
       "      <td>F</td>\n",
       "      <td>1.0</td>\n",
       "      <td>8.6</td>\n",
       "      <td>21.0</td>\n",
       "      <td>4.28</td>\n",
       "      <td>309.0</td>\n",
       "      <td>53.0</td>\n",
       "      <td>37.0</td>\n",
       "      <td>9.0</td>\n",
       "      <td>1.0</td>\n",
       "      <td>0.0</td>\n",
       "      <td>25.1</td>\n",
       "      <td>58.6</td>\n",
       "      <td>20.0</td>\n",
       "      <td>34.3</td>\n",
       "      <td>16.9</td>\n",
       "      <td>5.7</td>\n",
       "      <td>1</td>\n",
       "    </tr>\n",
       "    <tr>\n",
       "      <th>10</th>\n",
       "      <td>M</td>\n",
       "      <td>11.0</td>\n",
       "      <td>13.6</td>\n",
       "      <td>4.2</td>\n",
       "      <td>4.90</td>\n",
       "      <td>170.0</td>\n",
       "      <td>54.0</td>\n",
       "      <td>36.0</td>\n",
       "      <td>2.0</td>\n",
       "      <td>8.0</td>\n",
       "      <td>0.0</td>\n",
       "      <td>37.8</td>\n",
       "      <td>77.1</td>\n",
       "      <td>27.8</td>\n",
       "      <td>36.0</td>\n",
       "      <td>13.2</td>\n",
       "      <td>10.6</td>\n",
       "      <td>1</td>\n",
       "    </tr>\n",
       "  </tbody>\n",
       "</table>\n",
       "</div>"
      ],
      "text/plain": [
       "   Sex   Age  Hemoglobin(g/dl)  WBC(/L)  RBC(/L)  Platelets(/L)  \\\n",
       "0    M  18.0              13.6      6.5     5.15           25.0   \n",
       "3    M  25.0              14.7      9.0     5.32           40.0   \n",
       "6    F  32.0              13.0      4.5     4.62          221.0   \n",
       "9    F   1.0               8.6     21.0     4.28          309.0   \n",
       "10   M  11.0              13.6      4.2     4.90          170.0   \n",
       "\n",
       "    Neutrophil(%)  Lymphocyte(%)  Monocyte(%)  Eosinophil(%)  Basophil(%)  \\\n",
       "0            33.0           57.0          7.0            3.0          0.0   \n",
       "3            47.0           45.0          7.0            1.0          0.0   \n",
       "6            53.0           37.0          3.0            7.0          0.0   \n",
       "9            53.0           37.0          9.0            1.0          0.0   \n",
       "10           54.0           36.0          2.0            8.0          0.0   \n",
       "\n",
       "    HCT/PCV(%)  MCV(fL)  MCH(pg)  MCHC(g/dL)  RDW-CV(%)  MPV(fL)  Dengue_NS1  \n",
       "0         43.4     84.4     26.5        31.3       14.5     10.1           1  \n",
       "3         44.6     83.8     27.6        33.0       13.6     12.4           1  \n",
       "6         39.9     86.4     28.1        32.6       12.0     10.9           1  \n",
       "9         25.1     58.6     20.0        34.3       16.9      5.7           1  \n",
       "10        37.8     77.1     27.8        36.0       13.2     10.6           1  "
      ]
     },
     "execution_count": 78,
     "metadata": {},
     "output_type": "execute_result"
    }
   ],
   "source": [
    "df1.head()"
   ]
  },
  {
   "cell_type": "code",
   "execution_count": null,
   "id": "66094d0a-5f95-4d2e-bf3a-40247986853b",
   "metadata": {},
   "outputs": [],
   "source": [
    "Dengue cases in diffrent"
   ]
  },
  {
   "cell_type": "code",
   "execution_count": 83,
   "id": "a526c038-faa0-4314-a854-986277378cee",
   "metadata": {},
   "outputs": [],
   "source": [
    "sub_df = df1[['Sex','Dengue_NS1']]\n",
    "all_cases={}\n",
    "\n",
    "for index, row in df1.iterrows():\n",
    "    if ( row['Dengue_NS1']== 1 or row['Dengue_NS1']== 2 or row['Dengue_NS1']== 3):\n",
    "        if row['Sex'] not in all_cases.keys():\n",
    "            all_cases.update({row['Sex']:1})\n",
    "            \n",
    "        else:\n",
    "            all_cases[row['Sex']] = all_cases[row['Sex']]+1"
   ]
  },
  {
   "cell_type": "code",
   "execution_count": 86,
   "id": "ddafe319-a2d9-490d-a849-3a264f4303ea",
   "metadata": {},
   "outputs": [
    {
     "data": {
      "image/png": "[encoded data removed]",
      "text/plain": [
       "<Figure size 640x480 with 1 Axes>"
      ]
     },
     "metadata": {},
     "output_type": "display_data"
    }
   ],
   "source": [
    "from matplotlib import rcParams\n",
    "rcParams.update({'figure.autolayout': True})\n",
    "# plt.figure(figsize=(12,6))\n",
    "plt.xticks(rotation=75, fontsize=10)\n",
    "plt.yticks( fontsize=10)\n",
    "plt.title('Positive Dengue Cases per Gender', fontsize=13)\n",
    "\n",
    "# Convert the dictionary to a Pandas DataFrame\n",
    "df_1 = pd.DataFrame.from_dict(all_cases, orient='index', columns=['Number of Cases'])\n",
    "\n",
    "# Reset the index to convert the index column into a regular column\n",
    "df_1 = df_1.reset_index()\n",
    "\n",
    "# Rename the columns\n",
    "df_1 = df_1.rename(columns={'index': 'State'})\n",
    "\n",
    "# Create the barplot using Seaborn's barplot() function\n",
    "sns.barplot(x='State', y='Number of Cases', data=df_1)\n",
    "plt.style.use(\"fivethirtyeight\")\n",
    "\n",
    "\n",
    "plt.savefig(\"state_data.png\", dpi=300, format='png')"
   ]
  },
  {
   "cell_type": "code",
   "execution_count": 90,
   "id": "6550a75b-0f73-4c6c-a7ec-494f41ca3c88",
   "metadata": {},
   "outputs": [
    {
     "data": {
      "text/plain": [
       "Index(['Sex', 'Age', 'Hemoglobin(g/dl)', 'WBC(/L)', 'RBC(/L)', 'Platelets(/L)',\n",
       "       'Neutrophil(%)', 'Lymphocyte(%)', 'Monocyte(%)', 'Eosinophil(%)',\n",
       "       'Basophil(%)', 'HCT/PCV(%)', 'MCV(fL)', 'MCH(pg)', 'MCHC(g/dL)',\n",
       "       'RDW-CV(%)', 'MPV(fL)', 'Dengue_NS1'],\n",
       "      dtype='object')"
      ]
     },
     "execution_count": 90,
     "metadata": {},
     "output_type": "execute_result"
    }
   ],
   "source": [
    "df1.columns"
   ]
  },
  {
   "cell_type": "code",
   "execution_count": 89,
   "id": "165af1c4-24cf-4ad7-b2c7-90c96e049f74",
   "metadata": {},
   "outputs": [
    {
     "ename": "KeyError",
     "evalue": "\"None of [Index(['Smoking', 'Dengue_Final_Classification', 'Cardiovascular',\\n       'Hypertension', 'Asthma', 'Diabetes', 'Obesity', 'Pneumonia',\\n       'Chronic_Kidney_Disease', 'COPD', 'Immunosuppression'],\\n      dtype='object')] are in the [columns]\"",
     "output_type": "error",
     "traceback": [
      "\u001b[1;31m---------------------------------------------------------------------------\u001b[0m",
      "\u001b[1;31mKeyError\u001b[0m                                  Traceback (most recent call last)",
      "Cell \u001b[1;32mIn[89], line 1\u001b[0m\n\u001b[1;32m----> 1\u001b[0m subset_4 \u001b[38;5;241m=\u001b[39m \u001b[43mdf1\u001b[49m\u001b[43m[\u001b[49m\u001b[43m[\u001b[49m\u001b[38;5;124;43m'\u001b[39;49m\u001b[38;5;124;43mSmoking\u001b[39;49m\u001b[38;5;124;43m'\u001b[39;49m\u001b[43m,\u001b[49m\u001b[43m \u001b[49m\u001b[38;5;124;43m'\u001b[39;49m\u001b[38;5;124;43mDengue_Final_Classification\u001b[39;49m\u001b[38;5;124;43m'\u001b[39;49m\u001b[43m,\u001b[49m\u001b[43m \u001b[49m\u001b[38;5;124;43m'\u001b[39;49m\u001b[38;5;124;43mCardiovascular\u001b[39;49m\u001b[38;5;124;43m'\u001b[39;49m\u001b[43m,\u001b[49m\u001b[43m \u001b[49m\u001b[38;5;124;43m'\u001b[39;49m\u001b[38;5;124;43mHypertension\u001b[39;49m\u001b[38;5;124;43m'\u001b[39;49m\u001b[43m,\u001b[49m\u001b[43m \u001b[49m\u001b[38;5;124;43m'\u001b[39;49m\u001b[38;5;124;43mAsthma\u001b[39;49m\u001b[38;5;124;43m'\u001b[39;49m\u001b[43m,\u001b[49m\u001b[43m \u001b[49m\u001b[38;5;124;43m'\u001b[39;49m\u001b[38;5;124;43mDiabetes\u001b[39;49m\u001b[38;5;124;43m'\u001b[39;49m\u001b[43m,\u001b[49m\u001b[43m \u001b[49m\u001b[38;5;124;43m'\u001b[39;49m\u001b[38;5;124;43mObesity\u001b[39;49m\u001b[38;5;124;43m'\u001b[39;49m\u001b[43m,\u001b[49m\u001b[43m \u001b[49m\u001b[38;5;124;43m'\u001b[39;49m\u001b[38;5;124;43mPneumonia\u001b[39;49m\u001b[38;5;124;43m'\u001b[39;49m\u001b[43m,\u001b[49m\u001b[43m \u001b[49m\u001b[38;5;124;43m'\u001b[39;49m\u001b[38;5;124;43mChronic_Kidney_Disease\u001b[39;49m\u001b[38;5;124;43m'\u001b[39;49m\u001b[43m,\u001b[49m\u001b[43m \u001b[49m\u001b[38;5;124;43m'\u001b[39;49m\u001b[38;5;124;43mCOPD\u001b[39;49m\u001b[38;5;124;43m'\u001b[39;49m\u001b[43m,\u001b[49m\u001b[43m \u001b[49m\u001b[38;5;124;43m'\u001b[39;49m\u001b[38;5;124;43mImmunosuppression\u001b[39;49m\u001b[38;5;124;43m'\u001b[39;49m\u001b[43m]\u001b[49m\u001b[43m]\u001b[49m\n\u001b[0;32m      3\u001b[0m \u001b[38;5;66;03m#subset_4.columns = ['Smoking', 'Dengue_Final_Classification', 'Cardiovascular', 'Hypertension', 'Asthma', 'Diabetes', 'Obesity', 'Pneumonia', 'Chronic_Kidney_Disease', 'COPD', 'Immunosuppression']\u001b[39;00m\n\u001b[0;32m      5\u001b[0m subset_4\u001b[38;5;241m.\u001b[39mshape\n",
      "File \u001b[1;32m~\\AppData\\Local\\Programs\\Python\\Python312\\Lib\\site-packages\\pandas\\core\\frame.py:3899\u001b[0m, in \u001b[0;36mDataFrame.__getitem__\u001b[1;34m(self, key)\u001b[0m\n\u001b[0;32m   3897\u001b[0m     \u001b[38;5;28;01mif\u001b[39;00m is_iterator(key):\n\u001b[0;32m   3898\u001b[0m         key \u001b[38;5;241m=\u001b[39m \u001b[38;5;28mlist\u001b[39m(key)\n\u001b[1;32m-> 3899\u001b[0m     indexer \u001b[38;5;241m=\u001b[39m \u001b[38;5;28;43mself\u001b[39;49m\u001b[38;5;241;43m.\u001b[39;49m\u001b[43mcolumns\u001b[49m\u001b[38;5;241;43m.\u001b[39;49m\u001b[43m_get_indexer_strict\u001b[49m\u001b[43m(\u001b[49m\u001b[43mkey\u001b[49m\u001b[43m,\u001b[49m\u001b[43m \u001b[49m\u001b[38;5;124;43m\"\u001b[39;49m\u001b[38;5;124;43mcolumns\u001b[39;49m\u001b[38;5;124;43m\"\u001b[39;49m\u001b[43m)\u001b[49m[\u001b[38;5;241m1\u001b[39m]\n\u001b[0;32m   3901\u001b[0m \u001b[38;5;66;03m# take() does not accept boolean indexers\u001b[39;00m\n\u001b[0;32m   3902\u001b[0m \u001b[38;5;28;01mif\u001b[39;00m \u001b[38;5;28mgetattr\u001b[39m(indexer, \u001b[38;5;124m\"\u001b[39m\u001b[38;5;124mdtype\u001b[39m\u001b[38;5;124m\"\u001b[39m, \u001b[38;5;28;01mNone\u001b[39;00m) \u001b[38;5;241m==\u001b[39m \u001b[38;5;28mbool\u001b[39m:\n",
      "File \u001b[1;32m~\\AppData\\Local\\Programs\\Python\\Python312\\Lib\\site-packages\\pandas\\core\\indexes\\base.py:6114\u001b[0m, in \u001b[0;36mIndex._get_indexer_strict\u001b[1;34m(self, key, axis_name)\u001b[0m\n\u001b[0;32m   6111\u001b[0m \u001b[38;5;28;01melse\u001b[39;00m:\n\u001b[0;32m   6112\u001b[0m     keyarr, indexer, new_indexer \u001b[38;5;241m=\u001b[39m \u001b[38;5;28mself\u001b[39m\u001b[38;5;241m.\u001b[39m_reindex_non_unique(keyarr)\n\u001b[1;32m-> 6114\u001b[0m \u001b[38;5;28;43mself\u001b[39;49m\u001b[38;5;241;43m.\u001b[39;49m\u001b[43m_raise_if_missing\u001b[49m\u001b[43m(\u001b[49m\u001b[43mkeyarr\u001b[49m\u001b[43m,\u001b[49m\u001b[43m \u001b[49m\u001b[43mindexer\u001b[49m\u001b[43m,\u001b[49m\u001b[43m \u001b[49m\u001b[43maxis_name\u001b[49m\u001b[43m)\u001b[49m\n\u001b[0;32m   6116\u001b[0m keyarr \u001b[38;5;241m=\u001b[39m \u001b[38;5;28mself\u001b[39m\u001b[38;5;241m.\u001b[39mtake(indexer)\n\u001b[0;32m   6117\u001b[0m \u001b[38;5;28;01mif\u001b[39;00m \u001b[38;5;28misinstance\u001b[39m(key, Index):\n\u001b[0;32m   6118\u001b[0m     \u001b[38;5;66;03m# GH 42790 - Preserve name from an Index\u001b[39;00m\n",
      "File \u001b[1;32m~\\AppData\\Local\\Programs\\Python\\Python312\\Lib\\site-packages\\pandas\\core\\indexes\\base.py:6175\u001b[0m, in \u001b[0;36mIndex._raise_if_missing\u001b[1;34m(self, key, indexer, axis_name)\u001b[0m\n\u001b[0;32m   6173\u001b[0m     \u001b[38;5;28;01mif\u001b[39;00m use_interval_msg:\n\u001b[0;32m   6174\u001b[0m         key \u001b[38;5;241m=\u001b[39m \u001b[38;5;28mlist\u001b[39m(key)\n\u001b[1;32m-> 6175\u001b[0m     \u001b[38;5;28;01mraise\u001b[39;00m \u001b[38;5;167;01mKeyError\u001b[39;00m(\u001b[38;5;124mf\u001b[39m\u001b[38;5;124m\"\u001b[39m\u001b[38;5;124mNone of [\u001b[39m\u001b[38;5;132;01m{\u001b[39;00mkey\u001b[38;5;132;01m}\u001b[39;00m\u001b[38;5;124m] are in the [\u001b[39m\u001b[38;5;132;01m{\u001b[39;00maxis_name\u001b[38;5;132;01m}\u001b[39;00m\u001b[38;5;124m]\u001b[39m\u001b[38;5;124m\"\u001b[39m)\n\u001b[0;32m   6177\u001b[0m not_found \u001b[38;5;241m=\u001b[39m \u001b[38;5;28mlist\u001b[39m(ensure_index(key)[missing_mask\u001b[38;5;241m.\u001b[39mnonzero()[\u001b[38;5;241m0\u001b[39m]]\u001b[38;5;241m.\u001b[39munique())\n\u001b[0;32m   6178\u001b[0m \u001b[38;5;28;01mraise\u001b[39;00m \u001b[38;5;167;01mKeyError\u001b[39;00m(\u001b[38;5;124mf\u001b[39m\u001b[38;5;124m\"\u001b[39m\u001b[38;5;132;01m{\u001b[39;00mnot_found\u001b[38;5;132;01m}\u001b[39;00m\u001b[38;5;124m not in index\u001b[39m\u001b[38;5;124m\"\u001b[39m)\n",
      "\u001b[1;31mKeyError\u001b[0m: \"None of [Index(['Smoking', 'Dengue_Final_Classification', 'Cardiovascular',\\n       'Hypertension', 'Asthma', 'Diabetes', 'Obesity', 'Pneumonia',\\n       'Chronic_Kidney_Disease', 'COPD', 'Immunosuppression'],\\n      dtype='object')] are in the [columns]\""
     ]
    }
   ],
   "source": [
    "subset_4 = df1[['Smoking', 'Dengue_Final_Classification', 'Cardiovascular', 'Hypertension', 'Asthma', 'Diabetes', 'Obesity', 'Pneumonia', 'Chronic_Kidney_Disease', 'COPD', 'Immunosuppression']]\n",
    "\n",
    "#subset_4.columns = ['Smoking', 'Dengue_Final_Classification', 'Cardiovascular', 'Hypertension', 'Asthma', 'Diabetes', 'Obesity', 'Pneumonia', 'Chronic_Kidney_Disease', 'COPD', 'Immunosuppression']\n",
    "\n",
    "subset_4.shape\n"
   ]
  },
  {
   "cell_type": "code",
   "execution_count": null,
   "id": "bce09560-5f2a-4db8-ad9b-4b72279752dd",
   "metadata": {},
   "outputs": [],
   "source": []
  }
 ],
 "metadata": {
  "kernelspec": {
   "display_name": "Python 3 (ipykernel)",
   "language": "python",
   "name": "python3"
  },
  "language_info": {
   "codemirror_mode": {
    "name": "ipython",
    "version": 3
   },
   "file_extension": ".py",
   "mimetype": "text/x-python",
   "name": "python",
   "nbconvert_exporter": "python",
   "pygments_lexer": "ipython3",
   "version": "3.12.1"
  }
 },
 "nbformat": 4,
 "nbformat_minor": 5
}
