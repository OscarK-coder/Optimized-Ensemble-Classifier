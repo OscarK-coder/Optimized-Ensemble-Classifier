{
 "cells": [
  {
   "cell_type": "code",
   "execution_count": 1,
   "id": "5e1eb262-f371-4a93-9d30-90a100136d3d",
   "metadata": {},
   "outputs": [],
   "source": [
    "import pandas as pd\n",
    "import numpy as np\n",
    "import matplotlib.pyplot as plt\n",
    "import seaborn as sns"
   ]
  },
  {
   "cell_type": "code",
   "execution_count": 2,
   "id": "ac65083b-ef03-4ba3-a2b1-e780f1b57e80",
   "metadata": {},
   "outputs": [],
   "source": [
    "sns.set_style(\"whitegrid\")\n",
    "plt.style.use(\"fivethirtyeight\")"
   ]
  },
  {
   "cell_type": "code",
   "execution_count": 3,
   "id": "f8a0ca31-bc52-4fd0-a215-3417fc507bec",
   "metadata": {},
   "outputs": [
    {
     "data": {
      "text/html": [
       "<div>\n",
       "<style scoped>\n",
       "    .dataframe tbody tr th:only-of-type {\n",
       "        vertical-align: middle;\n",
       "    }\n",
       "\n",
       "    .dataframe tbody tr th {\n",
       "        vertical-align: top;\n",
       "    }\n",
       "\n",
       "    .dataframe thead th {\n",
       "        text-align: right;\n",
       "    }\n",
       "</style>\n",
       "<table border=\"1\" class=\"dataframe\">\n",
       "  <thead>\n",
       "    <tr style=\"text-align: right;\">\n",
       "      <th></th>\n",
       "      <th>Name</th>\n",
       "      <th>Fever</th>\n",
       "      <th>Headache</th>\n",
       "      <th>JointPain</th>\n",
       "      <th>Bleeding</th>\n",
       "      <th>Dengue</th>\n",
       "    </tr>\n",
       "  </thead>\n",
       "  <tbody>\n",
       "    <tr>\n",
       "      <th>0</th>\n",
       "      <td>Jeremy Long</td>\n",
       "      <td>0</td>\n",
       "      <td>0</td>\n",
       "      <td>1</td>\n",
       "      <td>1</td>\n",
       "      <td>1</td>\n",
       "    </tr>\n",
       "    <tr>\n",
       "      <th>1</th>\n",
       "      <td>Cassandra Glover</td>\n",
       "      <td>1</td>\n",
       "      <td>1</td>\n",
       "      <td>1</td>\n",
       "      <td>0</td>\n",
       "      <td>1</td>\n",
       "    </tr>\n",
       "    <tr>\n",
       "      <th>2</th>\n",
       "      <td>Aaron Adams MD</td>\n",
       "      <td>0</td>\n",
       "      <td>1</td>\n",
       "      <td>1</td>\n",
       "      <td>0</td>\n",
       "      <td>0</td>\n",
       "    </tr>\n",
       "    <tr>\n",
       "      <th>3</th>\n",
       "      <td>Elizabeth Thomas</td>\n",
       "      <td>0</td>\n",
       "      <td>1</td>\n",
       "      <td>0</td>\n",
       "      <td>1</td>\n",
       "      <td>1</td>\n",
       "    </tr>\n",
       "    <tr>\n",
       "      <th>4</th>\n",
       "      <td>Mathew Perez</td>\n",
       "      <td>0</td>\n",
       "      <td>0</td>\n",
       "      <td>1</td>\n",
       "      <td>0</td>\n",
       "      <td>1</td>\n",
       "    </tr>\n",
       "  </tbody>\n",
       "</table>\n",
       "</div>"
      ],
      "text/plain": [
       "               Name  Fever  Headache  JointPain  Bleeding  Dengue\n",
       "0       Jeremy Long      0         0          1         1       1\n",
       "1  Cassandra Glover      1         1          1         0       1\n",
       "2    Aaron Adams MD      0         1          1         0       0\n",
       "3  Elizabeth Thomas      0         1          0         1       1\n",
       "4      Mathew Perez      0         0          1         0       1"
      ]
     },
     "execution_count": 3,
     "metadata": {},
     "output_type": "execute_result"
    }
   ],
   "source": [
    "df = pd.read_csv('dengue.csv')\n",
    "df.head()"
   ]
  },
  {
   "cell_type": "code",
   "execution_count": 4,
   "id": "4a796e1a-48f5-42ad-ac40-f43375cb6bba",
   "metadata": {},
   "outputs": [
    {
     "data": {
      "text/plain": [
       "Name         0\n",
       "Fever        0\n",
       "Headache     0\n",
       "JointPain    0\n",
       "Bleeding     0\n",
       "Dengue       0\n",
       "dtype: int64"
      ]
     },
     "execution_count": 4,
     "metadata": {},
     "output_type": "execute_result"
    }
   ],
   "source": [
    "df.isnull().sum()"
   ]
  },
  {
   "cell_type": "code",
   "execution_count": 5,
   "id": "1dd984ed-3757-44dd-b8e9-08c40b98e944",
   "metadata": {},
   "outputs": [
    {
     "data": {
      "text/plain": [
       "(1000000, 6)"
      ]
     },
     "execution_count": 5,
     "metadata": {},
     "output_type": "execute_result"
    }
   ],
   "source": [
    "df.shape"
   ]
  },
  {
   "cell_type": "code",
   "execution_count": 6,
   "id": "3cb382eb-0f63-492b-8e57-50917e190b62",
   "metadata": {},
   "outputs": [
    {
     "data": {
      "text/html": [
       "<div>\n",
       "<style scoped>\n",
       "    .dataframe tbody tr th:only-of-type {\n",
       "        vertical-align: middle;\n",
       "    }\n",
       "\n",
       "    .dataframe tbody tr th {\n",
       "        vertical-align: top;\n",
       "    }\n",
       "\n",
       "    .dataframe thead th {\n",
       "        text-align: right;\n",
       "    }\n",
       "</style>\n",
       "<table border=\"1\" class=\"dataframe\">\n",
       "  <thead>\n",
       "    <tr style=\"text-align: right;\">\n",
       "      <th></th>\n",
       "      <th>Fever</th>\n",
       "      <th>Headache</th>\n",
       "      <th>JointPain</th>\n",
       "      <th>Bleeding</th>\n",
       "      <th>Dengue</th>\n",
       "    </tr>\n",
       "  </thead>\n",
       "  <tbody>\n",
       "    <tr>\n",
       "      <th>count</th>\n",
       "      <td>1000000.000000</td>\n",
       "      <td>1000000.000000</td>\n",
       "      <td>1000000.000000</td>\n",
       "      <td>1000000.000000</td>\n",
       "      <td>1000000.000000</td>\n",
       "    </tr>\n",
       "    <tr>\n",
       "      <th>mean</th>\n",
       "      <td>0.499779</td>\n",
       "      <td>0.499374</td>\n",
       "      <td>0.500353</td>\n",
       "      <td>0.500231</td>\n",
       "      <td>0.499929</td>\n",
       "    </tr>\n",
       "    <tr>\n",
       "      <th>std</th>\n",
       "      <td>0.500000</td>\n",
       "      <td>0.500000</td>\n",
       "      <td>0.500000</td>\n",
       "      <td>0.500000</td>\n",
       "      <td>0.500000</td>\n",
       "    </tr>\n",
       "    <tr>\n",
       "      <th>min</th>\n",
       "      <td>0.000000</td>\n",
       "      <td>0.000000</td>\n",
       "      <td>0.000000</td>\n",
       "      <td>0.000000</td>\n",
       "      <td>0.000000</td>\n",
       "    </tr>\n",
       "    <tr>\n",
       "      <th>25%</th>\n",
       "      <td>0.000000</td>\n",
       "      <td>0.000000</td>\n",
       "      <td>0.000000</td>\n",
       "      <td>0.000000</td>\n",
       "      <td>0.000000</td>\n",
       "    </tr>\n",
       "    <tr>\n",
       "      <th>50%</th>\n",
       "      <td>0.000000</td>\n",
       "      <td>0.000000</td>\n",
       "      <td>1.000000</td>\n",
       "      <td>1.000000</td>\n",
       "      <td>0.000000</td>\n",
       "    </tr>\n",
       "    <tr>\n",
       "      <th>75%</th>\n",
       "      <td>1.000000</td>\n",
       "      <td>1.000000</td>\n",
       "      <td>1.000000</td>\n",
       "      <td>1.000000</td>\n",
       "      <td>1.000000</td>\n",
       "    </tr>\n",
       "    <tr>\n",
       "      <th>max</th>\n",
       "      <td>1.000000</td>\n",
       "      <td>1.000000</td>\n",
       "      <td>1.000000</td>\n",
       "      <td>1.000000</td>\n",
       "      <td>1.000000</td>\n",
       "    </tr>\n",
       "  </tbody>\n",
       "</table>\n",
       "</div>"
      ],
      "text/plain": [
       "                Fever        Headache       JointPain        Bleeding  \\\n",
       "count  1000000.000000  1000000.000000  1000000.000000  1000000.000000   \n",
       "mean         0.499779        0.499374        0.500353        0.500231   \n",
       "std          0.500000        0.500000        0.500000        0.500000   \n",
       "min          0.000000        0.000000        0.000000        0.000000   \n",
       "25%          0.000000        0.000000        0.000000        0.000000   \n",
       "50%          0.000000        0.000000        1.000000        1.000000   \n",
       "75%          1.000000        1.000000        1.000000        1.000000   \n",
       "max          1.000000        1.000000        1.000000        1.000000   \n",
       "\n",
       "               Dengue  \n",
       "count  1000000.000000  \n",
       "mean         0.499929  \n",
       "std          0.500000  \n",
       "min          0.000000  \n",
       "25%          0.000000  \n",
       "50%          0.000000  \n",
       "75%          1.000000  \n",
       "max          1.000000  "
      ]
     },
     "execution_count": 6,
     "metadata": {},
     "output_type": "execute_result"
    }
   ],
   "source": [
    "df.describe()"
   ]
  },
  {
   "cell_type": "code",
   "execution_count": 7,
   "id": "a0e92740-b5e1-484e-b4f1-f824f8317f2c",
   "metadata": {},
   "outputs": [],
   "source": [
    "categorical_val = []\n",
    "continous_val = []\n",
    "for column in df.columns:\n",
    "    # print('==============================')\n",
    "    # print(f\"{column} : {df[column].unique()}\")\n",
    "    if len(df[column].unique()) <= 10:\n",
    "        categorical_val.append(column)\n",
    "    else:\n",
    "        continous_val.append(column)"
   ]
  },
  {
   "cell_type": "code",
   "execution_count": 8,
   "id": "22f4cc22-9ffb-4627-8bcc-5353a89f1160",
   "metadata": {},
   "outputs": [
    {
     "name": "stdout",
     "output_type": "stream",
     "text": [
      "Categorical features:\n",
      "['Fever', 'Headache', 'JointPain', 'Bleeding', 'Dengue']\n",
      "Continuous features:\n",
      "['Name']\n"
     ]
    }
   ],
   "source": [
    "print(\"Categorical features:\")\n",
    "print(categorical_val)\n",
    "print('Continuous features:')\n",
    "print(continous_val)"
   ]
  },
  {
   "cell_type": "code",
   "execution_count": 9,
   "id": "d45d576a-74d1-45f4-abb0-93eb11ae0039",
   "metadata": {},
   "outputs": [],
   "source": [
    "feature_columns = df.columns.to_list()"
   ]
  },
  {
   "cell_type": "code",
   "execution_count": 10,
   "id": "2003c43e-5055-4199-9c23-3d6b52afd214",
   "metadata": {},
   "outputs": [
    {
     "name": "stdout",
     "output_type": "stream",
     "text": [
      "Number of qualitative features: 5 (12.5%)\n",
      "Number of quantative features: 1 (2.5%)\n"
     ]
    }
   ],
   "source": [
    "print(\"Number of qualitative features: \" +str(len(categorical_val) ) + \" (\" + str(len(categorical_val)/40 *100) + \"%)\")\n",
    "print(\"Number of quantative features: \" +str(len(continous_val) ) + \" (\" + str(len(continous_val)/40 *100) + \"%)\")"
   ]
  },
  {
   "cell_type": "code",
   "execution_count": 11,
   "id": "2448532d-5420-4db2-b6a0-e98ab1350cc3",
   "metadata": {},
   "outputs": [
    {
     "name": "stdout",
     "output_type": "stream",
     "text": [
      "Fever : ['0', '1']\n",
      "Headache : ['0', '1']\n",
      "JointPain : ['0', '1']\n",
      "Bleeding : ['0', '1']\n",
      "Dengue : ['0', '1']\n"
     ]
    }
   ],
   "source": [
    "for feature in categorical_val:\n",
    "    # Convert numerical values to strings before sorting\n",
    "    vals = sorted([str(val) for val in df[feature].unique()])\n",
    "    print(feature, \":\", vals)"
   ]
  },
  {
   "cell_type": "code",
   "execution_count": 13,
   "id": "f88e134e-96d9-493f-a25c-42b508f6d313",
   "metadata": {},
   "outputs": [
    {
     "name": "stdout",
     "output_type": "stream",
     "text": [
      "Name         0\n",
      "Fever        0\n",
      "Headache     0\n",
      "JointPain    0\n",
      "Bleeding     0\n",
      "Dengue       0\n",
      "dtype: int64\n"
     ]
    }
   ],
   "source": [
    "print(df.isnull().sum())"
   ]
  },
  {
   "cell_type": "code",
   "execution_count": 14,
   "id": "ef8cca4a-e37f-41dc-b985-f2f646aaaaf5",
   "metadata": {},
   "outputs": [
    {
     "data": {
      "text/plain": [
       "Index(['Name', 'Fever', 'Headache', 'JointPain', 'Bleeding', 'Dengue'], dtype='object')"
      ]
     },
     "execution_count": 14,
     "metadata": {},
     "output_type": "execute_result"
    }
   ],
   "source": [
    "df.columns"
   ]
  },
  {
   "cell_type": "code",
   "execution_count": 15,
   "id": "f4b98a5e-1acc-4671-8499-0dbad12b5c5c",
   "metadata": {},
   "outputs": [],
   "source": [
    "idx = df['Dengue'].notnull() "
   ]
  },
  {
   "cell_type": "code",
   "execution_count": 16,
   "id": "1cbb7365-6616-41df-8484-609535c64bdc",
   "metadata": {},
   "outputs": [
    {
     "name": "stdout",
     "output_type": "stream",
     "text": [
      "Dataset size: (1000000, 6)\n",
      "Non-null rows: 1000000\n"
     ]
    }
   ],
   "source": [
    "print(f'Dataset size: {df.shape}')\n",
    "print(f'Non-null rows: {idx.notnull().sum()}')"
   ]
  },
  {
   "cell_type": "code",
   "execution_count": 19,
   "id": "2e800ce5-9a9e-4eec-bb0a-31b1dcd69eb4",
   "metadata": {},
   "outputs": [
    {
     "name": "stdout",
     "output_type": "stream",
     "text": [
      "============================================\n",
      "Name ==> Missing zeros : 0\n",
      "============================================\n",
      "Fever ==> Missing zeros : 500221\n",
      "============================================\n",
      "Headache ==> Missing zeros : 500626\n",
      "============================================\n",
      "JointPain ==> Missing zeros : 499647\n",
      "============================================\n",
      "Bleeding ==> Missing zeros : 499769\n",
      "============================================\n",
      "Dengue ==> Missing zeros : 500071\n"
     ]
    }
   ],
   "source": [
    "for column in feature_columns:\n",
    "    print(\"============================================\")\n",
    "    print(f\"{column} ==> Missing zeros : {len(df.loc[df[column] == 0])}\")"
   ]
  },
  {
   "cell_type": "code",
   "execution_count": 21,
   "id": "df15ba71-2447-4381-854f-83486bf4b875",
   "metadata": {},
   "outputs": [
    {
     "data": {
      "text/plain": [
       "0         1\n",
       "1         1\n",
       "2         0\n",
       "3         1\n",
       "4         1\n",
       "         ..\n",
       "999995    1\n",
       "999996    0\n",
       "999997    1\n",
       "999998    0\n",
       "999999    0\n",
       "Name: Dengue, Length: 1000000, dtype: int64"
      ]
     },
     "execution_count": 21,
     "metadata": {},
     "output_type": "execute_result"
    }
   ],
   "source": [
    "df['Dengue']"
   ]
  },
  {
   "cell_type": "code",
   "execution_count": 22,
   "id": "8394e4db-3407-4f0f-bdfd-e9e18534a2f4",
   "metadata": {},
   "outputs": [],
   "source": [
    "def remove_outliers(dataset, numeric_columns, num_std=3):\n",
    "   for column in numeric_columns: \n",
    "      mean = dataset[column].mean()\n",
    "      sd = dataset[column].std() \n",
    "      dataset = dataset[(dataset[column] <= mean + (num_std * sd))]\n",
    "      dataset = dataset[(dataset[column] >= mean - (num_std * sd))]\n",
    "   return dataset"
   ]
  },
  {
   "cell_type": "code",
   "execution_count": 23,
   "id": "41091f1b-4035-45a9-a1cb-0a6934a87c94",
   "metadata": {},
   "outputs": [
    {
     "data": {
      "text/plain": [
       "Index(['Name', 'Fever', 'Headache', 'JointPain', 'Bleeding', 'Dengue'], dtype='object')"
      ]
     },
     "execution_count": 23,
     "metadata": {},
     "output_type": "execute_result"
    }
   ],
   "source": [
    "df.columns"
   ]
  },
  {
   "cell_type": "code",
   "execution_count": 27,
   "id": "d30e2f48-ed1e-489c-936f-6834ac8ae08d",
   "metadata": {},
   "outputs": [
    {
     "data": {
      "text/plain": [
       "(1000000, 5)"
      ]
     },
     "execution_count": 27,
     "metadata": {},
     "output_type": "execute_result"
    }
   ],
   "source": [
    "subset_4 = df[['Fever', 'Headache', 'JointPain', 'Bleeding', 'Dengue']]\n",
    "subset_4.shape"
   ]
  },
  {
   "cell_type": "code",
   "execution_count": 36,
   "id": "aa7627cf-4817-46ce-bed9-c80e72505095",
   "metadata": {},
   "outputs": [],
   "source": [
    "total_num_Fever = 0\n",
    "total_num_Headache = 0\n",
    "total_num_JointPain = 0\n",
    "total_num_Bleeding = 0\n",
    "\n",
    "for index, row in subset_4.iterrows():\n",
    "    \n",
    "    if ( row['Dengue']== 1 or row['Dengue']== 2 or row['Dengue']== 3):\n",
    "        \n",
    "            if(row['Fever'] == 1):\n",
    "\n",
    "                total_num_Fever = total_num_Fever + 1\n",
    "\n",
    "            if(row['Headache'] == 1):\n",
    "                total_num_Headache = total_num_Headache +1 \n",
    "\n",
    "            if(row['JointPain'] == 1):\n",
    "                total_num_JointPain = total_num_JointPain +1 \n",
    "\n",
    "            if(row['Bleeding'] == 1):\n",
    "                total_num_Bleeding = total_num_Bleeding +1         "
   ]
  },
  {
   "cell_type": "code",
   "execution_count": 35,
   "id": "1ef729ae-bea6-4259-a6f4-7db1c59adce6",
   "metadata": {},
   "outputs": [
    {
     "name": "stdout",
     "output_type": "stream",
     "text": [
      "Total number of positive cases - Fever: 250298\n",
      "Total number of positive cases - Headache: 249689\n",
      "Total number of positive cases - JointPain: 250120\n",
      "Total number of positive cases - Bleeding: 250191\n"
     ]
    }
   ],
   "source": [
    "print(\"Total number of positive cases - Fever: \"+ str(total_num_Fever))\n",
    "print(\"Total number of positive cases - Headache: \"+ str(total_num_Headache))\n",
    "print(\"Total number of positive cases - JointPain: \"+ str(total_num_JointPain))\n",
    "print(\"Total number of positive cases - Bleeding: \"+ str(total_num_Bleeding))"
   ]
  },
  {
   "cell_type": "code",
   "execution_count": 41,
   "id": "0c3422c8-0a7e-4cf2-a3a1-2b69dcf1d9c7",
   "metadata": {},
   "outputs": [
    {
     "name": "stdout",
     "output_type": "stream",
     "text": [
      "Total number of Positive Dengue cases: 499929\n"
     ]
    },
    {
     "data": {
      "image/png": "[encoded data removed]",
      "text/plain": [
       "<Figure size 1000x600 with 1 Axes>"
      ]
     },
     "metadata": {},
     "output_type": "display_data"
    }
   ],
   "source": [
    "percentages_pre_existing = []\n",
    "\n",
    "# Total number of positive Dengue cases\n",
    "total_num_pos = 0\n",
    "\n",
    "for index, row in subset_4.iterrows():\n",
    "    if row['Dengue'] in [1, 2, 3]:\n",
    "        total_num_pos += 1\n",
    "\n",
    "print(\"Total number of Positive Dengue cases: \" + str(total_num_pos)) \n",
    "\n",
    "# Calculating percentages for each symptom\n",
    "percentages_pre_existing.append((total_num_Fever / total_num_pos) * 100)\n",
    "percentages_pre_existing.append((total_num_Headache / total_num_pos) * 100)\n",
    "percentages_pre_existing.append((total_num_JointPain / total_num_pos) * 100)\n",
    "percentages_pre_existing.append((total_num_Bleeding / total_num_pos) * 100)\n",
    "\n",
    "# Visualization\n",
    "import matplotlib.pyplot as plt\n",
    "import seaborn as sns\n",
    "\n",
    "labels = ['Fever', 'Headache', 'JointPain', 'Bleeding']  \n",
    "\n",
    "plt.figure(figsize=(10, 6))\n",
    "sns.barplot(x=labels, y=percentages_pre_existing)\n",
    "plt.xlabel('Medical Condition', fontsize=12)\n",
    "plt.ylabel('Percentage', fontsize=12)\n",
    "plt.title(\"Pre-existing Medical Conditions among Dengue Positive Cases\", fontsize=14)\n",
    "plt.xticks(rotation=30)\n",
    "plt.show()\n"
   ]
  },
  {
   "cell_type": "code",
   "execution_count": 42,
   "id": "47855cd4-b9bb-4518-a0ba-b196b03fc468",
   "metadata": {},
   "outputs": [
    {
     "name": "stdout",
     "output_type": "stream",
     "text": [
      "Total number of Positive Dengue cases: 499929\n"
     ]
    },
    {
     "data": {
      "image/png": "[encoded data removed]",
      "text/plain": [
       "<Figure size 1000x600 with 1 Axes>"
      ]
     },
     "metadata": {},
     "output_type": "display_data"
    }
   ],
   "source": [
    "import matplotlib.pyplot as plt\n",
    "import seaborn as sns\n",
    "\n",
    "# Define the color\n",
    "bar_color = 'skyblue'\n",
    "\n",
    "# Total number of positive Dengue cases\n",
    "total_num_pos = 0\n",
    "\n",
    "for index, row in subset_4.iterrows():\n",
    "    if row['Dengue'] in [1, 2, 3]:\n",
    "        total_num_pos += 1\n",
    "\n",
    "print(\"Total number of Positive Dengue cases: \" + str(total_num_pos)) \n",
    "\n",
    "# Calculating percentages for each symptom\n",
    "percentages_pre_existing = [\n",
    "    (total_num_Fever / total_num_pos) * 100,\n",
    "    (total_num_Headache / total_num_pos) * 100,\n",
    "    (total_num_JointPain / total_num_pos) * 100,\n",
    "    (total_num_Bleeding / total_num_pos) * 100\n",
    "]\n",
    "\n",
    "# Plotting\n",
    "plt.figure(figsize=(10, 6))\n",
    "sns.barplot(x=labels, y=percentages_pre_existing, color=bar_color)\n",
    "plt.xlabel('Medical Condition', fontsize=12)\n",
    "plt.ylabel('Percentage', fontsize=12)\n",
    "plt.title(\"Pre-existing Medical Conditions among Dengue Positive Cases\", fontsize=14)\n",
    "plt.xticks(rotation=30)\n",
    "plt.show()\n"
   ]
  },
  {
   "cell_type": "code",
   "execution_count": 48,
   "id": "35013767-2b67-4d4c-8dd1-c8738be9b976",
   "metadata": {},
   "outputs": [
    {
     "data": {
      "text/plain": [
       "Index(['Name', 'Fever', 'Headache', 'JointPain', 'Bleeding', 'Dengue'], dtype='object')"
      ]
     },
     "execution_count": 48,
     "metadata": {},
     "output_type": "execute_result"
    }
   ],
   "source": [
    "df.columns"
   ]
  },
  {
   "cell_type": "markdown",
   "id": "5c085d19-2573-4241-afd8-792ff3f40146",
   "metadata": {},
   "source": [
    "#### 2.1.3 Train and Test Dataset"
   ]
  },
  {
   "cell_type": "markdown",
   "id": "5ea38b1e-ce97-4bcb-9c8b-3d03e847d04a",
   "metadata": {},
   "source": [
    "#### 2.1.2 Removing any near zero variance features\n",
    "\n",
    "We tried reoving any numeric continuos features that have near zero variance. There deosn't seem to be any in this dataset"
   ]
  },
  {
   "cell_type": "code",
   "execution_count": 50,
   "id": "015dfb63-b2a5-4265-a243-8b9041f1764e",
   "metadata": {},
   "outputs": [],
   "source": [
    "extracted_df = df.drop(['Name'], axis = 'columns')"
   ]
  },
  {
   "cell_type": "code",
   "execution_count": 51,
   "id": "bf1f496a-8d9b-49c4-a797-ff92688c398a",
   "metadata": {},
   "outputs": [
    {
     "data": {
      "text/plain": [
       "(1000000, 5)"
      ]
     },
     "execution_count": 51,
     "metadata": {},
     "output_type": "execute_result"
    }
   ],
   "source": [
    "extracted_df.shape"
   ]
  },
  {
   "cell_type": "code",
   "execution_count": 52,
   "id": "4c2728c7-128a-408f-8321-f6d4dce27e3b",
   "metadata": {},
   "outputs": [],
   "source": [
    "extracted_categorical_val = []\n",
    "for column in extracted_df.columns:\n",
    "    # print('==============================')\n",
    "    # print(f\"{column} : {df[column].unique()}\")\n",
    "    if len(extracted_df[column].unique()) <= 10:\n",
    "        extracted_categorical_val.append(column)"
   ]
  },
  {
   "cell_type": "code",
   "execution_count": 53,
   "id": "c1465f9d-a541-4e05-939d-44c56d254099",
   "metadata": {},
   "outputs": [],
   "source": [
    "for column in extracted_categorical_val:\n",
    "    extracted_df.drop(extracted_df.loc[extracted_df[column] == 97].index, inplace=True)\n",
    "    extracted_df.drop(extracted_df.loc[extracted_df[column] == 98].index, inplace=True)\n",
    "    extracted_df.drop(extracted_df.loc[extracted_df[column] == 99].index, inplace=True)"
   ]
  },
  {
   "cell_type": "code",
   "execution_count": 54,
   "id": "b709a463-94c0-4513-99fc-dba1a5dd4cab",
   "metadata": {},
   "outputs": [
    {
     "data": {
      "text/plain": [
       "(1000000, 5)"
      ]
     },
     "execution_count": 54,
     "metadata": {},
     "output_type": "execute_result"
    }
   ],
   "source": [
    "extracted_df.shape"
   ]
  },
  {
   "cell_type": "code",
   "execution_count": 55,
   "id": "d7cfbf8f-e2fe-421b-b118-54376057d267",
   "metadata": {},
   "outputs": [],
   "source": [
    "def remove_features_near_zero_variance(dataset, threshold=1e-4):\n",
    "    continous_val = []\n",
    "    numeric_columns = dataset.select_dtypes('int64').columns\n",
    "    for column in numeric_columns:\n",
    "    # print('==============================')\n",
    "    # print(f\"{column} : {df[column].unique()}\")\n",
    "        if len(dataset[column].unique()) > 10:\n",
    "            continous_val.append(column)\n",
    "\n",
    "    columns_to_drop = []\n",
    "    for column in continous_val:\n",
    "        if dataset[column].std()**2 < threshold:\n",
    "            columns_to_drop.append(column)\n",
    "    dataset = dataset.drop(columns=columns_to_drop)\n",
    "    return dataset"
   ]
  },
  {
   "cell_type": "code",
   "execution_count": 56,
   "id": "80ba166e-1589-43f7-9ca2-15db7c516f1e",
   "metadata": {},
   "outputs": [],
   "source": [
    "extracted_df = remove_features_near_zero_variance(extracted_df);"
   ]
  },
  {
   "cell_type": "code",
   "execution_count": 57,
   "id": "deb1cd8c-a470-45b2-946a-ba0dd2101587",
   "metadata": {},
   "outputs": [
    {
     "data": {
      "text/plain": [
       "(1000000, 5)"
      ]
     },
     "execution_count": 57,
     "metadata": {},
     "output_type": "execute_result"
    }
   ],
   "source": [
    "extracted_df.shape"
   ]
  },
  {
   "cell_type": "code",
   "execution_count": 58,
   "id": "abc60c72-36d2-4042-890b-87a360ad14bb",
   "metadata": {},
   "outputs": [],
   "source": [
    "def remove_highly_correlated_features(dataset, threshold=0.9):\n",
    "    numeric_columns = dataset.select_dtypes('int64').columns\n",
    "    correlation_matrix = dataset[numeric_columns].corr().abs()\n",
    "\n",
    "    columns_to_drop = set()\n",
    "    for i in range(len(correlation_matrix.columns)):\n",
    "        for j in range(i):\n",
    "            if abs(correlation_matrix.iloc[i, j]) > threshold:\n",
    "               colname = correlation_matrix.columns[i]\n",
    "               columns_to_drop.add(colname)\n",
    "\n",
    "    dataset = dataset.drop(columns=columns_to_drop)\n",
    "    return dataset"
   ]
  },
  {
   "cell_type": "code",
   "execution_count": 59,
   "id": "6dd7b72b-f497-4403-af6a-f5c11dcd39a8",
   "metadata": {},
   "outputs": [],
   "source": [
    "extracted_df = remove_highly_correlated_features(extracted_df)"
   ]
  },
  {
   "cell_type": "code",
   "execution_count": 60,
   "id": "aa872da9-16c5-4948-8305-54b097fba722",
   "metadata": {},
   "outputs": [
    {
     "data": {
      "text/plain": [
       "(1000000, 5)"
      ]
     },
     "execution_count": 60,
     "metadata": {},
     "output_type": "execute_result"
    }
   ],
   "source": [
    "extracted_df.shape"
   ]
  },
  {
   "cell_type": "code",
   "execution_count": 61,
   "id": "1f300998-55d5-4cc3-bda4-01e55897e215",
   "metadata": {},
   "outputs": [
    {
     "data": {
      "text/plain": [
       "Dengue\n",
       "0    500071\n",
       "1    499929\n",
       "Name: Dengue, dtype: int64"
      ]
     },
     "execution_count": 61,
     "metadata": {},
     "output_type": "execute_result"
    }
   ],
   "source": [
    "extracted_df.groupby(['Dengue'])['Dengue'].count()"
   ]
  },
  {
   "cell_type": "code",
   "execution_count": 62,
   "id": "70605fcc-06bb-4ff2-9000-7831c23820f7",
   "metadata": {},
   "outputs": [],
   "source": [
    "#extracted_df['CLASIFICACION_FINAL'] = extracted_df['CLASIFICACION_FINAL'].replace([2, 3], 1)"
   ]
  },
  {
   "cell_type": "code",
   "execution_count": 63,
   "id": "385930f6-099b-426f-8eca-a81f07aaea3c",
   "metadata": {},
   "outputs": [
    {
     "data": {
      "text/plain": [
       "Dengue\n",
       "0    500071\n",
       "1    499929\n",
       "Name: Dengue, dtype: int64"
      ]
     },
     "execution_count": 63,
     "metadata": {},
     "output_type": "execute_result"
    }
   ],
   "source": [
    "extracted_df.groupby(['Dengue'])['Dengue'].count()"
   ]
  },
  {
   "cell_type": "code",
   "execution_count": 64,
   "id": "826ce410-0ef8-4096-a21d-9817dcfc22a7",
   "metadata": {},
   "outputs": [],
   "source": [
    "positive_cases_df = extracted_df.loc[extracted_df['Dengue'] == 0]\n",
    "negative_cases_df = extracted_df.loc[extracted_df['Dengue'] == 1]\n",
    "\n",
    "# Change value 7 to 0 so that we can treat it as a standard binary classifcation problem later on\n",
    "#negative_cases_df['CLASIFICACION_FINAL'] = negative_cases_df['CLASIFICACION_FINAL'].replace(7, 0)"
   ]
  },
  {
   "cell_type": "code",
   "execution_count": 65,
   "id": "ab41a3d0-33da-4ac5-a75c-f37b319a6b38",
   "metadata": {},
   "outputs": [
    {
     "name": "stdout",
     "output_type": "stream",
     "text": [
      "Total positive cases: 500071\n",
      "Total negative cases: 499929\n"
     ]
    }
   ],
   "source": [
    "print(\"Total positive cases:\", positive_cases_df.shape[0])\n",
    "print(\"Total negative cases:\", negative_cases_df.shape[0])"
   ]
  },
  {
   "cell_type": "code",
   "execution_count": 67,
   "id": "1e35419f-3e04-49cb-9d97-2a4298000ab3",
   "metadata": {},
   "outputs": [
    {
     "name": "stdout",
     "output_type": "stream",
     "text": [
      "<class 'pandas.core.frame.DataFrame'>\n",
      "<class 'pandas.core.frame.DataFrame'>\n"
     ]
    }
   ],
   "source": [
    "print(type(train_positive_df))\n",
    "print(type(train_negative_df))\n"
   ]
  },
  {
   "cell_type": "markdown",
   "id": "5a19c5cc-f858-4916-9aa4-6e1f97666018",
   "metadata": {},
   "source": [
    "train_positive_df = positive_cases_df[:80000]\n",
    "test_positive_df = positive_cases_df[80000:100000]\n",
    "train_negative_df = negative_cases_df[:80000]\n",
    "test_negative_df = negative_cases_df[80000:100000]\n",
    "\n",
    "train_df = train_positive_df.append(train_negative_df, ignore_index=True)\n",
    "test_df = test_positive_df.append(test_negative_df, ignore_index=True)"
   ]
  },
  {
   "cell_type": "code",
   "execution_count": 68,
   "id": "c270feda-cf52-442b-b782-2eda20b7c0d9",
   "metadata": {},
   "outputs": [],
   "source": [
    "train_positive_df = positive_cases_df[:80000]\n",
    "test_positive_df = positive_cases_df[80000:100000]\n",
    "train_negative_df = negative_cases_df[:80000]\n",
    "test_negative_df = negative_cases_df[80000:100000]\n",
    "\n",
    "train_df = pd.concat([train_positive_df, train_negative_df], ignore_index=True)\n",
    "test_df = pd.concat([test_positive_df, test_negative_df], ignore_index=True)\n"
   ]
  },
  {
   "cell_type": "code",
   "execution_count": 69,
   "id": "d6a36b83-e7e5-45d5-b580-43b6e048c838",
   "metadata": {},
   "outputs": [
    {
     "name": "stdout",
     "output_type": "stream",
     "text": [
      "Train Dataset Shape: (160000, 5)\n",
      "Test Dataset Shape: (40000, 5)\n"
     ]
    }
   ],
   "source": [
    "from sklearn.utils import shuffle\n",
    "\n",
    "train_df = shuffle(train_df)\n",
    "test_df = shuffle(test_df)\n",
    "\n",
    "print(\"Train Dataset Shape:\", train_df.shape)\n",
    "print(\"Test Dataset Shape:\", test_df.shape)"
   ]
  },
  {
   "cell_type": "code",
   "execution_count": 72,
   "id": "03a51abb-8701-4b8f-9963-29986f37450e",
   "metadata": {},
   "outputs": [
    {
     "name": "stdout",
     "output_type": "stream",
     "text": [
      "Train Dataset Shape: (160000, 4)\n",
      "Test Dataset Shape: (40000, 4)\n"
     ]
    }
   ],
   "source": [
    "train_y = train_df['Dengue'].tolist()\n",
    "test_y = test_df['Dengue'].tolist()\n",
    "\n",
    "train_x = train_df.drop('Dengue', axis=1)\n",
    "test_x = test_df.drop('Dengue', axis=1)\n",
    "\n",
    "print(\"Train Dataset Shape:\", train_x.shape)\n",
    "print(\"Test Dataset Shape:\", test_x.shape)"
   ]
  },
  {
   "cell_type": "markdown",
   "id": "58ce91fc-8712-4d2d-89de-b3bd36d18896",
   "metadata": {},
   "source": [
    "### 2.2 Building Random Forest Models"
   ]
  },
  {
   "cell_type": "code",
   "execution_count": 73,
   "id": "a2cba0fe-13a1-44e2-9f3d-d6c4d86f68c6",
   "metadata": {},
   "outputs": [
    {
     "name": "stdout",
     "output_type": "stream",
     "text": [
      "Train Accuracy: 0.504\n",
      "Test Accuracy: 0.504\n"
     ]
    }
   ],
   "source": [
    "from sklearn.tree import DecisionTreeClassifier\n",
    "\n",
    "dtree_classifier = DecisionTreeClassifier(random_state=0)\n",
    "dtree_classifier.fit(train_x, train_y)\n",
    "\n",
    "# classify the instances\n",
    "train_accuracy = dtree_classifier.score(train_x, train_y)\n",
    "test_accuracy = dtree_classifier.score(test_x, test_y)\n",
    "print('Train Accuracy: ' + str(round(train_accuracy, 3)))\n",
    "print('Test Accuracy: ' + str(round(test_accuracy, 3)))"
   ]
  },
  {
   "cell_type": "code",
   "execution_count": 74,
   "id": "41cc9e6d-19cd-47d0-b47a-eaa2faad2e27",
   "metadata": {},
   "outputs": [
    {
     "name": "stdout",
     "output_type": "stream",
     "text": [
      "Train Accuracy: 0.504\n",
      "Test Accuracy: 0.504\n"
     ]
    }
   ],
   "source": [
    "from sklearn.ensemble import RandomForestClassifier\n",
    "\n",
    "rf = RandomForestClassifier(random_state=0)\n",
    "rf.fit(train_x, train_y)\n",
    "\n",
    "# classify the instances\n",
    "train_accuracy = rf.score(train_x, train_y)\n",
    "test_accuracy = rf.score(test_x, test_y)\n",
    "print('Train Accuracy: ' + str(round(train_accuracy, 3)))\n",
    "print('Test Accuracy: ' + str(round(test_accuracy, 3)))"
   ]
  },
  {
   "cell_type": "code",
   "execution_count": 75,
   "id": "9bb0ad66-d838-4221-afa2-ad025659c519",
   "metadata": {},
   "outputs": [],
   "source": [
    "num_trees = []\n",
    "train_accuracy_list = []\n",
    "test_accuracy_list = []\n",
    "\n",
    "for x in range(10, 151, 10):\n",
    "    rf = RandomForestClassifier(random_state=0, n_estimators=x)\n",
    "    rf.fit(train_x, train_y)\n",
    "\n",
    "    # classify the instances\n",
    "    train_accuracy = rf.score(train_x, train_y)\n",
    "    test_accuracy = rf.score(test_x, test_y)\n",
    "\n",
    "    num_trees.append(x)\n",
    "    train_accuracy_list.append(train_accuracy)\n",
    "    test_accuracy_list.append(test_accuracy)"
   ]
  },
  {
   "cell_type": "code",
   "execution_count": 76,
   "id": "40ee284f-e8da-489a-b8d8-419902839972",
   "metadata": {},
   "outputs": [
    {
     "data": {
      "image/png": "[encoded data removed]",
      "text/plain": [
       "<Figure size 1000x700 with 1 Axes>"
      ]
     },
     "metadata": {},
     "output_type": "display_data"
    }
   ],
   "source": [
    "import matplotlib.pyplot as plt\n",
    "import seaborn as sns\n",
    "\n",
    "plt.figure(figsize=(10,7))\n",
    "sns.set_style('whitegrid')\n",
    "\n",
    "plt.plot(num_trees, train_accuracy_list, 'o-', label = \"Train Accuracy\")\n",
    "plt.plot(num_trees, test_accuracy_list, 'o-', label = \"Test Accuracy\")\n",
    "plt.title(\"Accuracy vs Number of trees\")\n",
    "plt.xlabel(\"Number of trees\")\n",
    "plt.ylabel(\"Accuracy\")\n",
    "plt.locator_params(axis='x')\n",
    "plt.legend(loc='upper right')\n",
    "\n",
    "ax = plt.gca()\n",
    "ax.set_ylim([0.5, 1])\n",
    "\n",
    "plt.show()"
   ]
  },
  {
   "cell_type": "code",
   "execution_count": 77,
   "id": "23a630b2-1619-4915-8cd0-fa62559d154e",
   "metadata": {},
   "outputs": [],
   "source": [
    "train_size = []\n",
    "train_accuracy_list_vary_size = []\n",
    "test_accuracy_list_vary_size = []\n",
    "\n",
    "for x in range(10000, 161000, 10000):\n",
    "    rf = RandomForestClassifier(random_state=0)\n",
    "    split_train_x = train_x[:x+10000]\n",
    "    split_train_y = train_y[:x+10000]\n",
    "\n",
    "    rf.fit(split_train_x, split_train_y)\n",
    "\n",
    "    # classify the instances\n",
    "    train_accuracy = rf.score(split_train_x, split_train_y)\n",
    "    test_accuracy = rf.score(test_x, test_y)\n",
    "\n",
    "    train_size.append(x)\n",
    "    train_accuracy_list_vary_size.append(train_accuracy)\n",
    "    test_accuracy_list_vary_size.append(test_accuracy)"
   ]
  },
  {
   "cell_type": "code",
   "execution_count": 78,
   "id": "4f9ad780-f5c6-4411-a9b6-f3d7c5c5d09e",
   "metadata": {},
   "outputs": [
    {
     "data": {
      "image/png": "[encoded data removed]",
      "text/plain": [
       "<Figure size 1000x700 with 1 Axes>"
      ]
     },
     "metadata": {},
     "output_type": "display_data"
    }
   ],
   "source": [
    "plt.figure(figsize=(10,7))\n",
    "sns.set_style('whitegrid')\n",
    "\n",
    "plt.plot(train_size, train_accuracy_list_vary_size, 'o-', label = \"Train Accuracy\")\n",
    "plt.plot(train_size, test_accuracy_list_vary_size, 'o-', label = \"Test Accuracy\")\n",
    "plt.title(\"Accuracy vs Dataset Size\")\n",
    "plt.xlabel(\"Dataset Size\")\n",
    "plt.ylabel(\"Accuracy\")\n",
    "plt.locator_params(axis='x')\n",
    "plt.legend(loc='upper right')\n",
    "\n",
    "ax = plt.gca()\n",
    "ax.set_ylim([0.5, 1])\n",
    "\n",
    "plt.show()"
   ]
  },
  {
   "cell_type": "code",
   "execution_count": 79,
   "id": "d13152ef-7355-45fb-8260-649ef4b90318",
   "metadata": {},
   "outputs": [],
   "source": [
    "max_depth = []\n",
    "train_accuracy_list_max_depth = []\n",
    "test_accuracy_list_max_depth = []\n",
    "\n",
    "for x in range(5, 16):\n",
    "    rf = RandomForestClassifier(random_state=0, max_depth=x)\n",
    "    rf.fit(train_x, train_y)\n",
    "\n",
    "    # classify the instances\n",
    "    train_accuracy = rf.score(train_x, train_y)\n",
    "    test_accuracy = rf.score(test_x, test_y)\n",
    "\n",
    "\n",
    "    max_depth.append(x)\n",
    "    train_accuracy_list_max_depth.append(train_accuracy)\n",
    "    test_accuracy_list_max_depth.append(test_accuracy)"
   ]
  },
  {
   "cell_type": "code",
   "execution_count": 80,
   "id": "f0171808-0266-4996-962c-79adda4d9e3f",
   "metadata": {},
   "outputs": [
    {
     "data": {
      "image/png": "[encoded data removed]",
      "text/plain": [
       "<Figure size 1000x700 with 1 Axes>"
      ]
     },
     "metadata": {},
     "output_type": "display_data"
    }
   ],
   "source": [
    "plt.figure(figsize=(10,7))\n",
    "sns.set_style('whitegrid')\n",
    "\n",
    "plt.plot(max_depth, train_accuracy_list_max_depth, 'o-', label = \"Train Accuracy\")\n",
    "plt.plot(max_depth, test_accuracy_list_max_depth, 'o-', label = \"Test Accuracy\")\n",
    "plt.title(\"Accuracy vs Maximum Depth\")\n",
    "plt.xlabel(\"Maximum Depth\")\n",
    "plt.ylabel(\"Accuracy\")\n",
    "plt.locator_params(axis='x')\n",
    "plt.legend(loc='upper right')\n",
    "\n",
    "ax = plt.gca()\n",
    "ax.set_ylim([0.5, 1])\n",
    "\n",
    "plt.show()"
   ]
  },
  {
   "cell_type": "code",
   "execution_count": 81,
   "id": "69339d47-6920-41ea-9f5e-d6376958144a",
   "metadata": {},
   "outputs": [
    {
     "name": "stdout",
     "output_type": "stream",
     "text": [
      "Train Accuracy: 0.504\n",
      "Test Accuracy: 0.504\n"
     ]
    }
   ],
   "source": [
    "rf = RandomForestClassifier(random_state=0, max_depth=15)\n",
    "rf.fit(train_x, train_y)\n",
    "\n",
    "# classify the instances\n",
    "train_accuracy = rf.score(train_x, train_y)\n",
    "test_accuracy = rf.score(test_x, test_y)\n",
    "pred = rf.predict(test_x)\n",
    "print('Train Accuracy: ' + str(round(train_accuracy, 3)))\n",
    "print('Test Accuracy: ' + str(round(test_accuracy, 3)))"
   ]
  },
  {
   "cell_type": "code",
   "execution_count": 82,
   "id": "c2543fcb-dccb-4f71-8b54-ffc297aae890",
   "metadata": {},
   "outputs": [
    {
     "data": {
      "image/png": "[encoded data removed]",
      "text/plain": [
       "<Figure size 640x480 with 2 Axes>"
      ]
     },
     "metadata": {},
     "output_type": "display_data"
    }
   ],
   "source": [
    "from sklearn.metrics import confusion_matrix, ConfusionMatrixDisplay\n",
    "import seaborn as sn\n",
    "\n",
    "cd_matrix = confusion_matrix(pred, test_y)\n",
    "\n",
    "disp = ConfusionMatrixDisplay(confusion_matrix=cd_matrix, display_labels=[\"Negative\", \"Positive\"])\n",
    "disp.plot()\n",
    "\n",
    "plt.show()"
   ]
  },
  {
   "cell_type": "code",
   "execution_count": 83,
   "id": "c2e38bf0-7389-4cd4-add0-e8122c819568",
   "metadata": {},
   "outputs": [
    {
     "name": "stdout",
     "output_type": "stream",
     "text": [
      "True Positive Rate: 0.767\n",
      "True Negative Rate: 0.684\n",
      "False Positive Rate: 0.316\n",
      "False Negative Rate: 0.233\n"
     ]
    }
   ],
   "source": [
    "tp = 12518\n",
    "tn = 16207\n",
    "fp = 7482\n",
    "fn = 3793\n",
    "print(\"True Positive Rate:\", round(tp/(tp+fn), 3))\n",
    "print(\"True Negative Rate:\", round(tn/(fp+tn), 3))\n",
    "print(\"False Positive Rate:\", round(fp/(fp+tn), 3))\n",
    "print(\"False Negative Rate:\", round(fn/(fn+tp), 3))"
   ]
  },
  {
   "cell_type": "code",
   "execution_count": 84,
   "id": "6f08b978-e495-4330-83c2-d274a818d933",
   "metadata": {},
   "outputs": [],
   "source": [
    "import pandas as pd\n",
    "from sklearn.model_selection import train_test_split\n",
    "from sklearn.ensemble import RandomForestClassifier\n",
    "from sklearn.metrics import accuracy_score, confusion_matrix, classification_report"
   ]
  },
  {
   "cell_type": "code",
   "execution_count": 85,
   "id": "fb7b7c3e-a091-4077-a27e-fdcc3bf2788f",
   "metadata": {},
   "outputs": [],
   "source": [
    "df = pd.read_csv('dengue.csv')"
   ]
  },
  {
   "cell_type": "code",
   "execution_count": 86,
   "id": "20474277-4fef-4366-9838-5647720ca583",
   "metadata": {},
   "outputs": [],
   "source": [
    "X = df.drop(['Name', 'Dengue'], axis=1)\n",
    "y = df['Dengue']"
   ]
  },
  {
   "cell_type": "code",
   "execution_count": 87,
   "id": "f7b3b9bc-c9d3-47b6-82db-ed191dc25c2f",
   "metadata": {},
   "outputs": [],
   "source": [
    "X_train, X_test, y_train, y_test = train_test_split(X, y, test_size=0.2, random_state=42)"
   ]
  },
  {
   "cell_type": "code",
   "execution_count": 88,
   "id": "e9bd10f8-0846-4445-95a6-9a690e535781",
   "metadata": {},
   "outputs": [],
   "source": [
    "rf = RandomForestClassifier(random_state=0)"
   ]
  },
  {
   "cell_type": "code",
   "execution_count": 89,
   "id": "1931117e-d617-4c73-92ff-d10fa97ce725",
   "metadata": {},
   "outputs": [
    {
     "data": {
      "text/html": [
       "<style>#sk-container-id-1 {color: black;}#sk-container-id-1 pre{padding: 0;}#sk-container-id-1 div.sk-toggleable {background-color: white;}#sk-container-id-1 label.sk-toggleable__label {cursor: pointer;display: block;width: 100%;margin-bottom: 0;padding: 0.3em;box-sizing: border-box;text-align: center;}#sk-container-id-1 label.sk-toggleable__label-arrow:before {content: \"▸\";float: left;margin-right: 0.25em;color: #696969;}#sk-container-id-1 label.sk-toggleable__label-arrow:hover:before {color: black;}#sk-container-id-1 div.sk-estimator:hover label.sk-toggleable__label-arrow:before {color: black;}#sk-container-id-1 div.sk-toggleable__content {max-height: 0;max-width: 0;overflow: hidden;text-align: left;background-color: #f0f8ff;}#sk-container-id-1 div.sk-toggleable__content pre {margin: 0.2em;color: black;border-radius: 0.25em;background-color: #f0f8ff;}#sk-container-id-1 input.sk-toggleable__control:checked~div.sk-toggleable__content {max-height: 200px;max-width: 100%;overflow: auto;}#sk-container-id-1 input.sk-toggleable__control:checked~label.sk-toggleable__label-arrow:before {content: \"▾\";}#sk-container-id-1 div.sk-estimator input.sk-toggleable__control:checked~label.sk-toggleable__label {background-color: #d4ebff;}#sk-container-id-1 div.sk-label input.sk-toggleable__control:checked~label.sk-toggleable__label {background-color: #d4ebff;}#sk-container-id-1 input.sk-hidden--visually {border: 0;clip: rect(1px 1px 1px 1px);clip: rect(1px, 1px, 1px, 1px);height: 1px;margin: -1px;overflow: hidden;padding: 0;position: absolute;width: 1px;}#sk-container-id-1 div.sk-estimator {font-family: monospace;background-color: #f0f8ff;border: 1px dotted black;border-radius: 0.25em;box-sizing: border-box;margin-bottom: 0.5em;}#sk-container-id-1 div.sk-estimator:hover {background-color: #d4ebff;}#sk-container-id-1 div.sk-parallel-item::after {content: \"\";width: 100%;border-bottom: 1px solid gray;flex-grow: 1;}#sk-container-id-1 div.sk-label:hover label.sk-toggleable__label {background-color: #d4ebff;}#sk-container-id-1 div.sk-serial::before {content: \"\";position: absolute;border-left: 1px solid gray;box-sizing: border-box;top: 0;bottom: 0;left: 50%;z-index: 0;}#sk-container-id-1 div.sk-serial {display: flex;flex-direction: column;align-items: center;background-color: white;padding-right: 0.2em;padding-left: 0.2em;position: relative;}#sk-container-id-1 div.sk-item {position: relative;z-index: 1;}#sk-container-id-1 div.sk-parallel {display: flex;align-items: stretch;justify-content: center;background-color: white;position: relative;}#sk-container-id-1 div.sk-item::before, #sk-container-id-1 div.sk-parallel-item::before {content: \"\";position: absolute;border-left: 1px solid gray;box-sizing: border-box;top: 0;bottom: 0;left: 50%;z-index: -1;}#sk-container-id-1 div.sk-parallel-item {display: flex;flex-direction: column;z-index: 1;position: relative;background-color: white;}#sk-container-id-1 div.sk-parallel-item:first-child::after {align-self: flex-end;width: 50%;}#sk-container-id-1 div.sk-parallel-item:last-child::after {align-self: flex-start;width: 50%;}#sk-container-id-1 div.sk-parallel-item:only-child::after {width: 0;}#sk-container-id-1 div.sk-dashed-wrapped {border: 1px dashed gray;margin: 0 0.4em 0.5em 0.4em;box-sizing: border-box;padding-bottom: 0.4em;background-color: white;}#sk-container-id-1 div.sk-label label {font-family: monospace;font-weight: bold;display: inline-block;line-height: 1.2em;}#sk-container-id-1 div.sk-label-container {text-align: center;}#sk-container-id-1 div.sk-container {/* jupyter's `normalize.less` sets `[hidden] { display: none; }` but bootstrap.min.css set `[hidden] { display: none !important; }` so we also need the `!important` here to be able to override the default hidden behavior on the sphinx rendered scikit-learn.org. See: https://github.com/scikit-learn/scikit-learn/issues/21755 */display: inline-block !important;position: relative;}#sk-container-id-1 div.sk-text-repr-fallback {display: none;}</style><div id=\"sk-container-id-1\" class=\"sk-top-container\"><div class=\"sk-text-repr-fallback\"><pre>RandomForestClassifier(random_state=0)</pre><b>In a Jupyter environment, please rerun this cell to show the HTML representation or trust the notebook. <br />On GitHub, the HTML representation is unable to render, please try loading this page with nbviewer.org.</b></div><div class=\"sk-container\" hidden><div class=\"sk-item\"><div class=\"sk-estimator sk-toggleable\"><input class=\"sk-toggleable__control sk-hidden--visually\" id=\"sk-estimator-id-1\" type=\"checkbox\" checked><label for=\"sk-estimator-id-1\" class=\"sk-toggleable__label sk-toggleable__label-arrow\">RandomForestClassifier</label><div class=\"sk-toggleable__content\"><pre>RandomForestClassifier(random_state=0)</pre></div></div></div></div></div>"
      ],
      "text/plain": [
       "RandomForestClassifier(random_state=0)"
      ]
     },
     "execution_count": 89,
     "metadata": {},
     "output_type": "execute_result"
    }
   ],
   "source": [
    "rf.fit(X_train, y_train)"
   ]
  },
  {
   "cell_type": "code",
   "execution_count": 90,
   "id": "622ffb36-2b89-4c84-a92f-46232e694cf0",
   "metadata": {},
   "outputs": [],
   "source": [
    "train_preds = rf.predict(X_train)\n",
    "test_preds = rf.predict(X_test)"
   ]
  },
  {
   "cell_type": "code",
   "execution_count": 91,
   "id": "0945df1a-5f4e-4a0b-a1da-efc3d8878bd2",
   "metadata": {},
   "outputs": [],
   "source": [
    "train_accuracy = accuracy_score(y_train, train_preds)\n",
    "test_accuracy = accuracy_score(y_test, test_preds)"
   ]
  },
  {
   "cell_type": "code",
   "execution_count": 92,
   "id": "5c0d2ce7-8d80-4907-8a12-a79865466c69",
   "metadata": {},
   "outputs": [
    {
     "name": "stdout",
     "output_type": "stream",
     "text": [
      "Train Accuracy: 0.5015375\n",
      "Test Accuracy: 0.49976\n"
     ]
    }
   ],
   "source": [
    "print('Train Accuracy:', train_accuracy)\n",
    "print('Test Accuracy:', test_accuracy)"
   ]
  },
  {
   "cell_type": "code",
   "execution_count": 93,
   "id": "f6727fde-7990-43bc-9220-5344c8573851",
   "metadata": {},
   "outputs": [
    {
     "name": "stdout",
     "output_type": "stream",
     "text": [
      "Classification Report for Test Data:\n",
      "              precision    recall  f1-score   support\n",
      "\n",
      "           0       0.50      0.56      0.53    100035\n",
      "           1       0.50      0.44      0.47     99965\n",
      "\n",
      "    accuracy                           0.50    200000\n",
      "   macro avg       0.50      0.50      0.50    200000\n",
      "weighted avg       0.50      0.50      0.50    200000\n",
      "\n"
     ]
    }
   ],
   "source": [
    "print('Classification Report for Test Data:')\n",
    "print(classification_report(y_test, test_preds))"
   ]
  },
  {
   "cell_type": "code",
   "execution_count": 94,
   "id": "a8a8cbe5-7580-4b74-bc41-baaca96741df",
   "metadata": {},
   "outputs": [
    {
     "name": "stdout",
     "output_type": "stream",
     "text": [
      "Confusion Matrix for Test Data:\n",
      "[[56129 43906]\n",
      " [56142 43823]]\n"
     ]
    }
   ],
   "source": [
    "print('Confusion Matrix for Test Data:')\n",
    "print(confusion_matrix(y_test, test_preds))"
   ]
  },
  {
   "cell_type": "code",
   "execution_count": null,
   "id": "65367684-fe09-49be-95d5-e770c576398b",
   "metadata": {},
   "outputs": [],
   "source": [
    "# Define the reduced parameter grid\n",
    "param_grid_reduced = {\n",
    "    'n_estimators': [100, 200],\n",
    "    'max_depth': [None, 10],\n",
    "    'min_samples_split': [2, 5],\n",
    "    'min_samples_leaf': [1, 2]\n",
    "}\n",
    "\n",
    "# Initialize Random Forest classifier\n",
    "rf_reduced = RandomForestClassifier(random_state=0)\n",
    "\n",
    "# Grid search with cross-validation\n",
    "grid_search_reduced = GridSearchCV(rf_reduced, param_grid_reduced, cv=5, scoring='accuracy')\n",
    "grid_search_reduced.fit(X_train, y_train)\n",
    "\n",
    "# Print the best parameters and best score\n",
    "print(\"Best Parameters (Reduced):\", grid_search_reduced.best_params_)\n",
    "print(\"Best Score (Reduced):\", grid_search_reduced.best_score_)\n"
   ]
  },
  {
   "cell_type": "code",
   "execution_count": null,
   "id": "a328b92d-3dbb-40a3-944f-831ddd6cdf3b",
   "metadata": {},
   "outputs": [],
   "source": [
    "# Fit Random Forest to obtain feature importances\n",
    "rf.fit(X_train, y_train)\n",
    "\n",
    "# Get feature importances\n",
    "feature_importances = pd.Series(rf.feature_importances_, index=X_train.columns)\n",
    "feature_importances_sorted = feature_importances.sort_values(ascending=False)\n",
    "\n",
    "# Select top features (e.g., top 3)\n",
    "top_features = feature_importances_sorted.head(3).index.tolist()\n",
    "print(\"Top Features:\", top_features)\n",
    "\n",
    "# Update X_train and X_test with selected features\n",
    "X_train_selected = X_train[top_features]\n",
    "X_test_selected = X_test[top_features]\n"
   ]
  },
  {
   "cell_type": "code",
   "execution_count": null,
   "id": "1aff747d-932b-4744-ba5a-e3ab99445d09",
   "metadata": {},
   "outputs": [],
   "source": [
    "from imblearn.over_sampling import SMOTE\n",
    "\n",
    "# Initialize SMOTE\n",
    "smote = SMOTE(random_state=0)\n",
    "\n",
    "# Apply SMOTE to the training data only\n",
    "X_train_balanced, y_train_balanced = smote.fit_resample(X_train, y_train)\n"
   ]
  },
  {
   "cell_type": "code",
   "execution_count": null,
   "id": "b866a40c-f0a8-4a89-8c0b-b2bf12e2f4ff",
   "metadata": {},
   "outputs": [],
   "source": [
    "from xgboost import XGBClassifier\n",
    "\n",
    "# Initialize XGBoost classifier\n",
    "xgb = XGBClassifier(random_state=0)\n",
    "\n",
    "# Train the model\n",
    "xgb.fit(X_train, y_train)\n",
    "\n",
    "# Predictions\n",
    "train_preds_xgb = xgb.predict(X_train)\n",
    "test_preds_xgb = xgb.predict(X_test)\n",
    "\n",
    "# Evaluate the model\n",
    "train_accuracy_xgb = accuracy_score(y_train, train_preds_xgb)\n",
    "test_accuracy_xgb = accuracy_score(y_test, test_preds_xgb)\n",
    "\n",
    "print('XGBoost Train Accuracy:', train_accuracy_xgb)\n",
    "print('XGBoost Test Accuracy:', test_accuracy_xgb)\n"
   ]
  },
  {
   "cell_type": "code",
   "execution_count": null,
   "id": "7e0b9d82-145c-494b-94f1-3545c874cdbb",
   "metadata": {},
   "outputs": [],
   "source": [
    "from sklearn.model_selection import cross_val_score\n",
    "\n",
    "# Initialize Random Forest classifier\n",
    "rf = RandomForestClassifier(random_state=0)\n",
    "\n",
    "# Perform cross-validation\n",
    "cv_scores = cross_val_score(rf, X_train, y_train, cv=5, scoring='accuracy')\n",
    "\n",
    "# Print cross-validation scores\n",
    "print(\"Cross-Validation Scores:\", cv_scores)\n",
    "print(\"Mean Cross-Validation Score:\", cv_scores.mean())\n"
   ]
  }
 ],
 "metadata": {
  "kernelspec": {
   "display_name": "Python 3 (ipykernel)",
   "language": "python",
   "name": "python3"
  },
  "language_info": {
   "codemirror_mode": {
    "name": "ipython",
    "version": 3
   },
   "file_extension": ".py",
   "mimetype": "text/x-python",
   "name": "python",
   "nbconvert_exporter": "python",
   "pygments_lexer": "ipython3",
   "version": "3.12.1"
  }
 },
 "nbformat": 4,
 "nbformat_minor": 5
}
